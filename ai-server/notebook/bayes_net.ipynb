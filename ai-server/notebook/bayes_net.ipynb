{
 "cells": [
  {
   "cell_type": "markdown",
   "metadata": {},
   "source": [
    "# Python Bayesian Network\n",
    "[Bayes Network - PyBN Document](https://hackl.science/pybn)"
   ]
  },
  {
   "cell_type": "code",
   "execution_count": null,
   "metadata": {},
   "outputs": [],
   "source": [
    "!pip3 install pgmpy"
   ]
  },
  {
   "cell_type": "code",
   "execution_count": 14,
   "metadata": {},
   "outputs": [],
   "source": [
    "from pgmpy.models.BayesianNetwork import BayesianNetwork\n",
    "\n",
    "network = BayesianNetwork()\n",
    "\n",
    "DOMAIN='domain' \n",
    "PROBLEM='problem'\n",
    "SOLUTION='solution'\n",
    "BEHAVIOR='behavior'\n",
    "OUTSTAND='outstand'\n",
    "\n",
    "#P(Domain)*\n",
    "\n",
    "network.add_nodes_from(nodes=[DOMAIN, PROBLEM, SOLUTION, BEHAVIOR, OUTSTAND])\n",
    "network.add_edges_from(ebunch=[()])"
   ]
  }
 ],
 "metadata": {
  "kernelspec": {
   "display_name": "Python 3.10.13 ('.venv': venv)",
   "language": "python",
   "name": "python3"
  },
  "language_info": {
   "codemirror_mode": {
    "name": "ipython",
    "version": 3
   },
   "file_extension": ".py",
   "mimetype": "text/x-python",
   "name": "python",
   "nbconvert_exporter": "python",
   "pygments_lexer": "ipython3",
   "version": "3.10.13"
  },
  "orig_nbformat": 4,
  "vscode": {
   "interpreter": {
    "hash": "a704de84d788518585a1734d7e07d73c8af2617ee4bc5ea96944d1c9b2e73160"
   }
  }
 },
 "nbformat": 4,
 "nbformat_minor": 2
}
