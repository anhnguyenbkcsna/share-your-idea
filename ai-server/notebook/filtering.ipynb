{
 "cells": [
  {
   "cell_type": "markdown",
   "metadata": {},
   "source": [
    "#### Write Vie SPAM Idea Dataset to CSV"
   ]
  },
  {
   "cell_type": "code",
   "execution_count": null,
   "metadata": {},
   "outputs": [],
   "source": [
    "!pip3 install transformers"
   ]
  },
  {
   "cell_type": "code",
   "execution_count": null,
   "metadata": {},
   "outputs": [],
   "source": [
    "!pip3 install gensim"
   ]
  },
  {
   "cell_type": "code",
   "execution_count": null,
   "metadata": {},
   "outputs": [],
   "source": [
    "from transformers import AutoTokenizer, AutoModelForSeq2SeqLM\n",
    "\n",
    "\n",
    "model_name = \"VietAI/envit5-translation\"\n",
    "tokenizer = AutoTokenizer.from_pretrained(model_name)  \n",
    "model = AutoModelForSeq2SeqLM.from_pretrained(model_name)\n",
    "\n",
    "# Specify the file path\n",
    "file_path = \"data/vie/spam.csv\"\n",
    "\n",
    "# Write Vie Spam Dataset to CSV\n",
    "for sent in en_sent:\n",
    "  sentence = \"en: \" + sent\n",
    "  inputs = [sentence]\n",
    "  outputs = model.generate(tokenizer(inputs, return_tensors=\"pt\", padding=True).input_ids, max_length=512)\n",
    "  vie_trans = tokenizer.batch_decode(outputs, skip_special_tokens=True)[0][4:]\n",
    "  write_to_file(vie_trans,0, file_path)\n"
   ]
  },
  {
   "cell_type": "markdown",
   "metadata": {},
   "source": [
    "#### Write Vie Valid Idea Description Dataset to CSV"
   ]
  },
  {
   "cell_type": "code",
   "execution_count": null,
   "metadata": {},
   "outputs": [],
   "source": [
    "from transformers import AutoTokenizer, AutoModelForSeq2SeqLM\n",
    "\n",
    "model_name = \"VietAI/envit5-translation\"\n",
    "tokenizer = AutoTokenizer.from_pretrained(model_name)  \n",
    "model = AutoModelForSeq2SeqLM.from_pretrained(model_name)\n",
    "\n",
    "# Specify the file path\n",
    "file_path = \"data/vie/valid_idea.csv\"\n",
    "\n",
    "# Write Vie Valid Idea Description Dataset to CSV\n",
    "for sent in en_sent_1:\n",
    "  sentence = \"en: \" + sent\n",
    "  inputs = [sentence]\n",
    "  outputs = model.generate(tokenizer(inputs, return_tensors=\"pt\", padding=True).input_ids, max_length=512)\n",
    "  vie_trans = tokenizer.batch_decode(outputs, skip_special_tokens=True)[0][4:]\n",
    "  write_to_file(vie_trans,1,file_path)"
   ]
  },
  {
   "attachments": {},
   "cell_type": "markdown",
   "metadata": {},
   "source": [
    "## Filtering by LSTM"
   ]
  },
  {
   "attachments": {},
   "cell_type": "markdown",
   "metadata": {},
   "source": [
    "### Import"
   ]
  },
  {
   "cell_type": "code",
   "execution_count": null,
   "metadata": {},
   "outputs": [],
   "source": [
    "import pandas as pd\n",
    "\n",
    "invalid_0 = pd.read_csv(\"data/invalid_sentences.csv\", delimiter=';')\n",
    "invalid_1 = pd.read_csv(\"data/random_str.csv\", delimiter=',')\n",
    "semantic = pd.read_csv(\"data/valid_ideas.csv\", delimiter=';', usecols=['sentence', 'spam'])\n",
    "\n",
    "invalid_0.head()\n",
    "invalid_1.head()\n",
    "semantic.head()\n",
    "\n",
    "frames = [invalid_0, semantic, invalid_1]\n",
    " \n",
    "df = pd.concat(frames)\n",
    "\n",
    "df.head()"
   ]
  },
  {
   "attachments": {},
   "cell_type": "markdown",
   "metadata": {},
   "source": [
    "### Sequence Model"
   ]
  },
  {
   "cell_type": "markdown",
   "metadata": {},
   "source": [
    "Install Tensorflow on M1: https://medium.com/@sorenlind/tensorflow-with-gpu-support-on-apple-silicon-mac-with-homebrew-and-without-conda-miniforge-915b2f15425b"
   ]
  },
  {
   "cell_type": "code",
   "execution_count": null,
   "metadata": {},
   "outputs": [],
   "source": [
    "# A dependency of the preprocessing for BERT inputs\n",
    "!pip3 install -U tensorflow-macos tensorflow-metal\n",
    "!pip3 install plotlib tf-models-official"
   ]
  },
  {
   "cell_type": "code",
   "execution_count": null,
   "metadata": {},
   "outputs": [],
   "source": [
    "!pip3 show tensorflow\n",
    "!pip3 install tensorflow"
   ]
  },
  {
   "cell_type": "code",
   "execution_count": 8,
   "metadata": {},
   "outputs": [
    {
     "name": "stdout",
     "output_type": "stream",
     "text": [
      "WARNING:tensorflow:From /var/folders/3r/9fvf4cpx6jjd1b07n6_49y4r0000gn/T/ipykernel_33196/1060355255.py:7: is_gpu_available (from tensorflow.python.framework.test_util) is deprecated and will be removed in a future version.\n",
      "Instructions for updating:\n",
      "Use `tf.config.list_physical_devices('GPU')` instead.\n"
     ]
    },
    {
     "name": "stderr",
     "output_type": "stream",
     "text": [
      "2024-05-15 08:48:37.831768: I metal_plugin/src/device/metal_device.cc:1154] Metal device set to: Apple M1\n",
      "2024-05-15 08:48:37.831788: I metal_plugin/src/device/metal_device.cc:296] systemMemory: 16.00 GB\n",
      "2024-05-15 08:48:37.831794: I metal_plugin/src/device/metal_device.cc:313] maxCacheSize: 5.33 GB\n",
      "2024-05-15 08:48:37.832104: I tensorflow/core/common_runtime/pluggable_device/pluggable_device_factory.cc:306] Could not identify NUMA node of platform GPU ID 0, defaulting to 0. Your kernel may not have been built with NUMA support.\n",
      "2024-05-15 08:48:37.832383: I tensorflow/core/common_runtime/pluggable_device/pluggable_device_factory.cc:272] Created TensorFlow device (/device:GPU:0 with 0 MB memory) -> physical PluggableDevice (device: 0, name: METAL, pci bus id: <undefined>)\n"
     ]
    }
   ],
   "source": [
    "import os\n",
    "import shutil\n",
    "\n",
    "import tensorflow as tf\n",
    "\n",
    "tf.config.experimental.list_physical_devices('GPU')\n",
    "tf.test.is_gpu_available()\n",
    "# from official.nlp import optimization  # to create AdamW optimizer\n",
    "\n",
    "tf.get_logger().setLevel('ERROR')"
   ]
  },
  {
   "cell_type": "code",
   "execution_count": null,
   "metadata": {},
   "outputs": [],
   "source": [
    "!pip3 install scikit-learn"
   ]
  },
  {
   "cell_type": "code",
   "execution_count": null,
   "metadata": {},
   "outputs": [],
   "source": [
    "from sklearn.model_selection import train_test_split\n",
    "\n",
    "#Create test and train samples from one dataframe with pandas?\n",
    "train_data, test_data = train_test_split(df, test_size=0.3)"
   ]
  },
  {
   "cell_type": "code",
   "execution_count": null,
   "metadata": {},
   "outputs": [],
   "source": [
    "train_list = train_data.values.tolist()\n",
    "# print(train_list)"
   ]
  },
  {
   "cell_type": "markdown",
   "metadata": {},
   "source": [
    "## EMBEDDING LAYER"
   ]
  },
  {
   "cell_type": "code",
   "execution_count": null,
   "metadata": {},
   "outputs": [],
   "source": [
    "!pip3 install pandas numpy seaborn matplotlib scikit-learn keras"
   ]
  },
  {
   "cell_type": "code",
   "execution_count": null,
   "metadata": {},
   "outputs": [],
   "source": [
    "!pip3 install tensorflow"
   ]
  },
  {
   "cell_type": "code",
   "execution_count": 9,
   "metadata": {},
   "outputs": [],
   "source": [
    "import pandas as pd\n",
    "import numpy as np\n",
    "import matplotlib.pyplot as plt\n",
    "import seaborn as sns\n",
    "from sklearn.model_selection import train_test_split\n",
    "from sklearn.preprocessing import LabelEncoder\n",
    "from keras.models import Model\n",
    "from keras.layers import LSTM, Activation, Dense, Dropout, Input, Embedding\n",
    "# tf.keras.optimizers.legacy.RMSprop\n",
    "from keras.src.optimizers.legacy.rmsprop import RMSprop\n",
    "from keras.src.optimizers import Adam\n",
    "from keras.preprocessing.text import Tokenizer\n",
    "from keras.preprocessing import sequence\n",
    "from keras.utils import to_categorical\n",
    "from keras.callbacks import EarlyStopping\n",
    "%matplotlib inline"
   ]
  },
  {
   "cell_type": "code",
   "execution_count": 30,
   "metadata": {},
   "outputs": [
    {
     "data": {
      "text/plain": [
       "RangeIndex(start=0, stop=4894, step=1)"
      ]
     },
     "execution_count": 30,
     "metadata": {},
     "output_type": "execute_result"
    }
   ],
   "source": [
    "import pandas as pd\n",
    "\n",
    "data_folder = '../data/'\n",
    "invalid_0 = pd.read_csv(data_folder + \"invalid_sentences.csv\", delimiter=';')\n",
    "invalid_1 = pd.read_csv(data_folder + \"random_str.csv\", delimiter=',')\n",
    "semantic = pd.read_csv(data_folder + \"vie/valid_idea.csv\", delimiter=';', usecols=['sentence', 'spam'])\n",
    "\n",
    "invalid_0.head()\n",
    "invalid_1.head()\n",
    "semantic.head()\n",
    "\n",
    "frames = [invalid_0, semantic, invalid_1]\n",
    " \n",
    "df = pd.concat(frames)\n",
    "\n",
    "df = df.reset_index()\n",
    "# df[100:120]\n",
    "# df.index.duplicated()\n",
    "df.index\n",
    "# df.loc[df.index.unique()]"
   ]
  },
  {
   "cell_type": "code",
   "execution_count": 31,
   "metadata": {},
   "outputs": [
    {
     "data": {
      "text/plain": [
       "Text(0.5, 1.0, 'Number of ham (1) and spam (0) ideas')"
      ]
     },
     "execution_count": 31,
     "metadata": {},
     "output_type": "execute_result"
    },
    {
     "data": {
      "image/png": "[encoded data removed]",
      "text/plain": [
       "<Figure size 640x480 with 1 Axes>"
      ]
     },
     "metadata": {},
     "output_type": "display_data"
    }
   ],
   "source": [
    "sns.countplot(df, x=\"spam\")\n",
    "plt.xlabel('Label')\n",
    "plt.title('Number of ham (1) and spam (0) ideas')"
   ]
  },
  {
   "cell_type": "code",
   "execution_count": 32,
   "metadata": {},
   "outputs": [],
   "source": [
    "X = df.sentence\n",
    "Y = df.spam\n",
    "le = LabelEncoder()\n",
    "Y = le.fit_transform(Y)\n",
    "Y = Y.reshape(-1,1)"
   ]
  },
  {
   "cell_type": "code",
   "execution_count": 33,
   "metadata": {},
   "outputs": [],
   "source": [
    "X_train,X_test,Y_train,Y_test = train_test_split(X,Y,test_size=0.15)"
   ]
  },
  {
   "cell_type": "code",
   "execution_count": 34,
   "metadata": {},
   "outputs": [],
   "source": [
    "max_words = 1000\n",
    "max_len = 150\n",
    "tok = Tokenizer(num_words=max_words)\n",
    "tok.fit_on_texts(X_train)\n",
    "sequences = tok.texts_to_sequences(X_train)\n",
    "sequences_matrix = sequence.pad_sequences(sequences,maxlen=max_len)"
   ]
  },
  {
   "cell_type": "code",
   "execution_count": 35,
   "metadata": {},
   "outputs": [],
   "source": [
    "def RNN():\n",
    "  inputs = Input(name='inputs',shape=[max_len])\n",
    "  layer = Embedding(max_words,50,input_length=max_len)(inputs)\n",
    "  layer = LSTM(64)(layer)\n",
    "  layer = Dense(256,name='FC1')(layer)\n",
    "  layer = Activation('relu')(layer)\n",
    "  layer = Dropout(0.5)(layer)\n",
    "  layer = Dense(1,name='out_layer')(layer)\n",
    "  layer = Activation('sigmoid')(layer)\n",
    "  model = Model(inputs=inputs,outputs=layer)\n",
    "  return model"
   ]
  },
  {
   "cell_type": "code",
   "execution_count": 1,
   "metadata": {},
   "outputs": [],
   "source": [
    "from keras.models import Model\n",
    "from keras.layers import Input, Embedding, LSTM, Dense, Activation, Dropout\n",
    "from keras.initializers import glorot_uniform, orthogonal\n",
    "\n",
    "def RNN():\n",
    "    inputs = Input(name='inputs', shape=[max_len])\n",
    "    layer = Embedding(max_words, 50, input_length=max_len)(inputs)\n",
    "    layer = LSTM(64, kernel_initializer=orthogonal())(layer)\n",
    "    layer = Dense(256, name='FC1', kernel_initializer=glorot_uniform())(layer)\n",
    "    layer = Activation('relu')(layer)\n",
    "    layer = Dropout(0.5)(layer)\n",
    "    layer = Dense(1, name='out_layer', kernel_initializer=glorot_uniform())(layer)\n",
    "    layer = Activation('sigmoid')(layer)\n",
    "    model = Model(inputs=inputs, outputs=layer)\n",
    "    return model"
   ]
  },
  {
   "cell_type": "code",
   "execution_count": 4,
   "metadata": {},
   "outputs": [
    {
     "ename": "NameError",
     "evalue": "name 'max_len' is not defined",
     "output_type": "error",
     "traceback": [
      "\u001b[0;31m---------------------------------------------------------------------------\u001b[0m",
      "\u001b[0;31mNameError\u001b[0m                                 Traceback (most recent call last)",
      "Cell \u001b[0;32mIn[4], line 1\u001b[0m\n\u001b[0;32m----> 1\u001b[0m model \u001b[39m=\u001b[39m RNN()\n\u001b[1;32m      2\u001b[0m model\u001b[39m.\u001b[39msummary()\n\u001b[1;32m      3\u001b[0m model\u001b[39m.\u001b[39mcompile(loss\u001b[39m=\u001b[39m\u001b[39m'\u001b[39m\u001b[39mbinary_crossentropy\u001b[39m\u001b[39m'\u001b[39m,optimizer\u001b[39m=\u001b[39mRMSprop(),metrics\u001b[39m=\u001b[39m[\u001b[39m'\u001b[39m\u001b[39maccuracy\u001b[39m\u001b[39m'\u001b[39m])\n",
      "Cell \u001b[0;32mIn[1], line 6\u001b[0m, in \u001b[0;36mRNN\u001b[0;34m()\u001b[0m\n\u001b[1;32m      5\u001b[0m \u001b[39mdef\u001b[39;00m \u001b[39mRNN\u001b[39m():\n\u001b[0;32m----> 6\u001b[0m     inputs \u001b[39m=\u001b[39m Input(name\u001b[39m=\u001b[39m\u001b[39m'\u001b[39m\u001b[39minputs\u001b[39m\u001b[39m'\u001b[39m, shape\u001b[39m=\u001b[39m[max_len])\n\u001b[1;32m      7\u001b[0m     layer \u001b[39m=\u001b[39m Embedding(max_words, \u001b[39m50\u001b[39m, input_length\u001b[39m=\u001b[39mmax_len)(inputs)\n\u001b[1;32m      8\u001b[0m     layer \u001b[39m=\u001b[39m LSTM(\u001b[39m64\u001b[39m, kernel_initializer\u001b[39m=\u001b[39morthogonal())(layer)\n",
      "\u001b[0;31mNameError\u001b[0m: name 'max_len' is not defined"
     ]
    }
   ],
   "source": [
    "model = RNN()\n",
    "model.summary()\n",
    "model.compile(loss='binary_crossentropy',optimizer=RMSprop(),metrics=['accuracy'])"
   ]
  },
  {
   "cell_type": "code",
   "execution_count": 3,
   "metadata": {},
   "outputs": [
    {
     "ename": "NameError",
     "evalue": "name 'model' is not defined",
     "output_type": "error",
     "traceback": [
      "\u001b[0;31m---------------------------------------------------------------------------\u001b[0m",
      "\u001b[0;31mNameError\u001b[0m                                 Traceback (most recent call last)",
      "Cell \u001b[0;32mIn[3], line 1\u001b[0m\n\u001b[0;32m----> 1\u001b[0m history \u001b[39m=\u001b[39m model\u001b[39m.\u001b[39mfit(sequences_matrix,Y_train,batch_size\u001b[39m=\u001b[39m\u001b[39m128\u001b[39m,epochs\u001b[39m=\u001b[39m\u001b[39m5\u001b[39m,\n\u001b[1;32m      2\u001b[0m           validation_split\u001b[39m=\u001b[39m\u001b[39m0.2\u001b[39m,callbacks\u001b[39m=\u001b[39m[EarlyStopping(monitor\u001b[39m=\u001b[39m\u001b[39m'\u001b[39m\u001b[39mval_loss\u001b[39m\u001b[39m'\u001b[39m,min_delta\u001b[39m=\u001b[39m\u001b[39m0.0001\u001b[39m)])\n",
      "\u001b[0;31mNameError\u001b[0m: name 'model' is not defined"
     ]
    }
   ],
   "source": [
    "history = model.fit(sequences_matrix,Y_train,batch_size=128,epochs=5,\n",
    "          validation_split=0.2,callbacks=[EarlyStopping(monitor='val_loss',min_delta=0.0001)])"
   ]
  },
  {
   "cell_type": "code",
   "execution_count": 38,
   "metadata": {},
   "outputs": [],
   "source": [
    "test_sequences = tok.texts_to_sequences(X_test)\n",
    "test_sequences_matrix = sequence.pad_sequences(test_sequences,maxlen=max_len)"
   ]
  },
  {
   "cell_type": "code",
   "execution_count": 39,
   "metadata": {},
   "outputs": [
    {
     "name": "stdout",
     "output_type": "stream",
     "text": [
      "23/23 [==============================] - 0s 13ms/step - loss: 2.5931e-05 - accuracy: 1.0000\n"
     ]
    }
   ],
   "source": [
    "accr = model.evaluate(test_sequences_matrix,Y_test)"
   ]
  },
  {
   "cell_type": "code",
   "execution_count": 40,
   "metadata": {},
   "outputs": [
    {
     "name": "stdout",
     "output_type": "stream",
     "text": [
      "Test set\n",
      "  Loss: 0.000\n",
      "  Accuracy: 1.000\n"
     ]
    }
   ],
   "source": [
    "print('Test set\\n  Loss: {:0.3f}\\n  Accuracy: {:0.3f}'.format(accr[0],accr[1]))"
   ]
  },
  {
   "cell_type": "code",
   "execution_count": 41,
   "metadata": {},
   "outputs": [
    {
     "data": {
      "image/png": "[encoded data removed]",
      "text/plain": [
       "<Figure size 640x480 with 1 Axes>"
      ]
     },
     "metadata": {},
     "output_type": "display_data"
    },
    {
     "data": {
      "image/png": "[encoded data removed]",
      "text/plain": [
       "<Figure size 640x480 with 1 Axes>"
      ]
     },
     "metadata": {},
     "output_type": "display_data"
    }
   ],
   "source": [
    "import matplotlib.pyplot as plt\n",
    "\n",
    "acc = history.history['accuracy']\n",
    "val_acc = history.history['val_accuracy']\n",
    "loss = history.history['loss']\n",
    "val_loss = history.history['val_loss']\n",
    "epochs = range(1, len(acc) + 1)\n",
    "plt.plot(epochs, acc, 'bo', label='Training acc')\n",
    "plt.plot(epochs, val_acc, 'b', label='Validation acc')\n",
    "plt.title('Training and validation accuracy')\n",
    "plt.legend()\n",
    "plt.figure()\n",
    "plt.plot(epochs, loss, 'bo', label='Training loss')\n",
    "plt.plot(epochs, val_loss, 'b', label='Validation loss')\n",
    "plt.title('Training and validation loss')\n",
    "plt.legend()\n",
    "plt.show()"
   ]
  },
  {
   "cell_type": "code",
   "execution_count": 42,
   "metadata": {},
   "outputs": [
    {
     "name": "stdout",
     "output_type": "stream",
     "text": [
      "1/1 [==============================] - 0s 226ms/step\n",
      "[[3.3443706e-05]\n",
      " [9.9999976e-01]\n",
      " [3.0750514e-05]\n",
      " [9.9999988e-01]\n",
      " [9.9999905e-01]\n",
      " [9.9999940e-01]\n",
      " [9.9999976e-01]\n",
      " [1.6142920e-05]\n",
      " [1.0000000e+00]\n",
      " [9.9999642e-01]] 50                     Let me help you with your baggage.\n",
      "2993    Đây là nền tảng phần mềm cho các hiệp hội nhà ...\n",
      "71      Malls are great places to shop, I can find eve...\n",
      "1839    Trong hơn hai năm, công ty đã làm việc trên mộ...\n",
      "2380    Một nền tảng dữ liệu tài chính nhằm mục đích g...\n",
      "1464    Một công ty giúp người dùng theo dõi dữ liệu c...\n",
      "3923    Một công ty khởi nghiệp sử dụng dữ liệu từ điệ...\n",
      "963            The scent of blooming jasmine in a garden.\n",
      "4005     Một công ty cung cấp một cách thức để các côn...\n",
      "2951    Một tủ lưu trữ kỹ thuật số cho lượng lớn dữ li...\n",
      "Name: sentence, dtype: object\n"
     ]
    }
   ],
   "source": [
    "word_idx = 10\n",
    "prediction = model.predict(test_sequences_matrix[word_idx:word_idx+10])\n",
    "print(prediction, X_test[word_idx:word_idx+10])"
   ]
  },
  {
   "cell_type": "code",
   "execution_count": 43,
   "metadata": {},
   "outputs": [],
   "source": [
    "def input(new_sentence, ai_model):\n",
    "  new_sentence = new_sentence + \".\"\n",
    "  test_sequences = tok.texts_to_sequences([new_sentence])\n",
    "  test_sequences_matrix = sequence.pad_sequences(test_sequences, maxlen=max_len)\n",
    "  prediction = ai_model.predict(test_sequences_matrix)\n",
    "  label = \"spam\"\n",
    "  if prediction > 0.5:\n",
    "    label = \"innovative idea\"\n",
    "  print(prediction, new_sentence[:30] + '...')"
   ]
  },
  {
   "cell_type": "code",
   "execution_count": 44,
   "metadata": {},
   "outputs": [
    {
     "name": "stdout",
     "output_type": "stream",
     "text": [
      "1/1 [==============================] - 0s 70ms/step\n",
      "[[7.950824e-05]] Nghi is building an AI app for...\n",
      "1/1 [==============================] - 0s 16ms/step\n",
      "[[9.171246e-05]] Origin recipes for this manifi...\n",
      "1/1 [==============================] - 0s 15ms/step\n",
      "[[3.1068626e-05]] This is the new way to play gu...\n",
      "1/1 [==============================] - 0s 18ms/step\n",
      "[[6.599057e-05]] This is the new book....\n",
      "1/1 [==============================] - 0s 15ms/step\n",
      "[[0.00031102]] This is the new AI model helpi...\n",
      "1/1 [==============================] - 0s 14ms/step\n",
      "[[0.00030305]] We are operating new AI model ...\n",
      "1/1 [==============================] - 0s 16ms/step\n",
      "[[0.00011535]] Instagram is so popular that n...\n"
     ]
    }
   ],
   "source": [
    "\n",
    "input(\"Nghi is building an AI app for tracking habit automatically that use voice-over to record your daily activities\", model)\n",
    "input(\"Origin recipes for this manificient coffee shop\", model)\n",
    "input(\"This is the new way to play guitar\", model)\n",
    "input(\"This is the new book\", model)\n",
    "input(\"This is the new AI model helping homework completion\", model)\n",
    "input(\"We are operating new AI model to auto complete homework\", model)\n",
    "input(\"Instagram is so popular that now everyone is using, scrolling til tired\", model)"
   ]
  },
  {
   "cell_type": "code",
   "execution_count": null,
   "metadata": {},
   "outputs": [],
   "source": [
    "input(\"SmartMirror Health Assistant: A cutting-edge innovation that combines a traditional mirror with advanced AI technology to create a personalized health monitoring system. The SmartMirror analyzes facial features and provides real-time health insights, such as heart rate, stress levels, and skin condition. It also offers personalized workout recommendations and nutrition tips based on individual goals. With voice control and integration with smart devices, the SmartMirror Health Assistant revolutionizes daily routines, empowers users to make informed health decisions, and promotes overall well-being in a seamless and interactive way.\", model)"
   ]
  },
  {
   "cell_type": "code",
   "execution_count": null,
   "metadata": {},
   "outputs": [],
   "source": [
    "input(\"Paperclip Organizer: A simple and practical solution for keeping paperclips organized and easily accessible. This compact organizer features separate compartments for different sizes and colors of paperclips, preventing them from getting lost or tangled. Its sleek design takes up minimal desk space, offering convenience and efficiency for everyday office tasks.\", model)\n",
    "input(\"A budget-friendly hotel chain providing comfortable accommodations, basic amenities, and convenient locations near popular attractions.\", model)\n",
    "input(\"A travel agency offering pre-packaged vacation deals to popular tourist destinations, with standard itineraries and accommodations.\", model)"
   ]
  },
  {
   "cell_type": "code",
   "execution_count": null,
   "metadata": {},
   "outputs": [],
   "source": [
    "docs = \"\"\"\n",
    "A travel agency that specializes in creating immersive cultural experiences for travelers\n",
    "\"\"\""
   ]
  },
  {
   "cell_type": "code",
   "execution_count": 13,
   "metadata": {},
   "outputs": [
    {
     "ename": "NameError",
     "evalue": "name 'docs' is not defined",
     "output_type": "error",
     "traceback": [
      "\u001b[0;31m---------------------------------------------------------------------------\u001b[0m",
      "\u001b[0;31mNameError\u001b[0m                                 Traceback (most recent call last)",
      "Cell \u001b[0;32mIn[13], line 1\u001b[0m\n\u001b[0;32m----> 1\u001b[0m \u001b[39minput\u001b[39m(docs, model)\n",
      "\u001b[0;31mNameError\u001b[0m: name 'docs' is not defined"
     ]
    }
   ],
   "source": [
    "input(docs, model)"
   ]
  },
  {
   "cell_type": "code",
   "execution_count": 22,
   "metadata": {},
   "outputs": [
    {
     "name": "stderr",
     "output_type": "stream",
     "text": [
      "/Users/macos/Library/Python/3.9/lib/python/site-packages/keras/src/engine/training.py:3079: UserWarning: You are saving your model as an HDF5 file via `model.save()`. This file format is considered legacy. We recommend using instead the native Keras format, e.g. `model.save('my_model.keras')`.\n",
      "  saving_api.save_model(\n"
     ]
    }
   ],
   "source": [
    "# Save the model to a file\n",
    "model.save('../src/new_model/my_model.h5')"
   ]
  },
  {
   "cell_type": "code",
   "execution_count": 24,
   "metadata": {},
   "outputs": [],
   "source": [
    "from tensorflow.keras.models import load_model\n",
    "\n",
    "model = load_model('../src/new_model/my_model.h5')"
   ]
  },
  {
   "cell_type": "code",
   "execution_count": null,
   "metadata": {},
   "outputs": [],
   "source": [
    "import torch\n",
    "from torch import nn\n",
    "\n",
    "class MyModel(nn.Module):\n",
    "    def __init__(self, max_words, max_len):\n",
    "        super(MyModel, self).__init__()\n",
    "        self.embedding = nn.Embedding(max_words, 50, max_len)\n",
    "        self.lstm = nn.LSTM(50, 64, batch_first=True)\n",
    "        self.fc1 = nn.Linear(64, 256)\n",
    "        self.relu = nn.ReLU()\n",
    "        self.dropout = nn.Dropout(0.5)\n",
    "        self.fc2 = nn.Linear(256, 1)\n",
    "        self.sigmoid = nn.Sigmoid()\n",
    "        \n",
    "    def forward(self, x):\n",
    "        x = self.embedding(x)\n",
    "        x, _ = self.lstm(x)\n",
    "        x = x[:, -1, :]  # Get the output of the last time step\n",
    "        x = self.fc1(x)\n",
    "        x = self.relu(x)\n",
    "        x = self.dropout(x)\n",
    "        x = self.fc2(x)\n",
    "        x = self.sigmoid(x)\n",
    "        return x\n",
    "\n",
    "# Example usage:\n",
    "# model = MyModel(max_words=5000, max_len=100)\n"
   ]
  },
  {
   "cell_type": "markdown",
   "metadata": {},
   "source": [
    "## PhoBERT Embedding - Vietnamese Spam Filtering\n",
    "\n",
    "[Hugging Face - PhoBERT](https://huggingface.co/docs/transformers/model_doc/phobert)"
   ]
  },
  {
   "cell_type": "code",
   "execution_count": null,
   "metadata": {},
   "outputs": [],
   "source": [
    "import torch\n",
    "from transformers import AutoModel, AutoTokenizer\n",
    "\n",
    "phobert = AutoModel.from_pretrained(\"vinai/phobert-base\")\n",
    "tokenizer = AutoTokenizer.from_pretrained(\"vinai/phobert-base\")\n",
    "\n",
    "# INPUT TEXT MUST BE ALREADY WORD-SEGMENTED!\n",
    "line = \"Tôi là sinh_viên trường đại_học Công_nghệ .\"\n",
    "\n",
    "input_ids = torch.tensor([tokenizer.encode(line)])\n",
    "\n",
    "with torch.no_grad():\n",
    "  features = phobert(input_ids) # Models outputs are now tuples\n"
   ]
  },
  {
   "cell_type": "code",
   "execution_count": 4,
   "metadata": {},
   "outputs": [
    {
     "name": "stdout",
     "output_type": "stream",
     "text": [
      "Defaulting to user installation because normal site-packages is not writeable\n",
      "Collecting underthesea\n",
      "  Downloading underthesea-6.8.0-py3-none-any.whl.metadata (14 kB)\n",
      "Collecting Click>=6.0 (from underthesea)\n",
      "  Downloading click-8.1.7-py3-none-any.whl.metadata (3.0 kB)\n",
      "Collecting python-crfsuite>=0.9.6 (from underthesea)\n",
      "  Downloading python-crfsuite-0.9.10.tar.gz (478 kB)\n",
      "\u001b[2K     \u001b[38;2;114;156;31m━━━━━━━━━━━━━━━━━━━━━━━━━━━━━━━━━━━━━━━\u001b[0m \u001b[32m478.3/478.3 kB\u001b[0m \u001b[31m2.8 MB/s\u001b[0m eta \u001b[36m0:00:00\u001b[0m MB/s\u001b[0m eta \u001b[36m0:00:01\u001b[0m:01\u001b[0m\n",
      "\u001b[?25h  Preparing metadata (setup.py) ... \u001b[?25ldone\n",
      "\u001b[?25hCollecting nltk (from underthesea)\n",
      "  Downloading nltk-3.8.1-py3-none-any.whl.metadata (2.8 kB)\n",
      "Requirement already satisfied: tqdm in /Users/macos/Library/Python/3.9/lib/python/site-packages (from underthesea) (4.66.1)\n",
      "Requirement already satisfied: requests in /Users/macos/Library/Python/3.9/lib/python/site-packages (from underthesea) (2.29.0)\n",
      "Collecting joblib (from underthesea)\n",
      "  Downloading joblib-1.3.2-py3-none-any.whl.metadata (5.4 kB)\n",
      "Collecting scikit-learn (from underthesea)\n",
      "  Downloading scikit_learn-1.4.1.post1-cp39-cp39-macosx_12_0_arm64.whl.metadata (11 kB)\n",
      "Requirement already satisfied: PyYAML in /Users/macos/Library/Python/3.9/lib/python/site-packages (from underthesea) (6.0.1)\n",
      "Collecting underthesea-core==1.0.4 (from underthesea)\n",
      "  Downloading underthesea_core-1.0.4-cp39-cp39-macosx_11_0_arm64.whl.metadata (1.7 kB)\n",
      "Requirement already satisfied: regex>=2021.8.3 in /Users/macos/Library/Python/3.9/lib/python/site-packages (from nltk->underthesea) (2023.12.25)\n",
      "Requirement already satisfied: charset-normalizer<4,>=2 in /Users/macos/Library/Python/3.9/lib/python/site-packages (from requests->underthesea) (3.3.0)\n",
      "Requirement already satisfied: idna<4,>=2.5 in /Users/macos/Library/Python/3.9/lib/python/site-packages (from requests->underthesea) (3.4)\n",
      "Requirement already satisfied: urllib3<1.27,>=1.21.1 in /Users/macos/Library/Python/3.9/lib/python/site-packages (from requests->underthesea) (1.26.18)\n",
      "Requirement already satisfied: certifi>=2017.4.17 in /Users/macos/Library/Python/3.9/lib/python/site-packages (from requests->underthesea) (2023.7.22)\n",
      "Requirement already satisfied: numpy<2.0,>=1.19.5 in /Users/macos/Library/Python/3.9/lib/python/site-packages (from scikit-learn->underthesea) (1.26.1)\n",
      "Collecting scipy>=1.6.0 (from scikit-learn->underthesea)\n",
      "  Downloading scipy-1.12.0-cp39-cp39-macosx_12_0_arm64.whl.metadata (60 kB)\n",
      "\u001b[2K     \u001b[38;2;114;156;31m━━━━━━━━━━━━━━━━━━━━━━━━━━━━━━━━━━━━━━━━\u001b[0m \u001b[32m60.4/60.4 kB\u001b[0m \u001b[31m6.7 MB/s\u001b[0m eta \u001b[36m0:00:00\u001b[0m\n",
      "\u001b[?25hCollecting threadpoolctl>=2.0.0 (from scikit-learn->underthesea)\n",
      "  Downloading threadpoolctl-3.4.0-py3-none-any.whl.metadata (13 kB)\n",
      "Downloading underthesea-6.8.0-py3-none-any.whl (20.9 MB)\n",
      "\u001b[2K   \u001b[38;2;114;156;31m━━━━━━━━━━━━━━━━━━━━━━━━━━━━━━━━━━━━━━━━\u001b[0m \u001b[32m20.9/20.9 MB\u001b[0m \u001b[31m11.8 MB/s\u001b[0m eta \u001b[36m0:00:00\u001b[0mm eta \u001b[36m0:00:01\u001b[0m0:01\u001b[0m:01\u001b[0m\n",
      "\u001b[?25hDownloading underthesea_core-1.0.4-cp39-cp39-macosx_11_0_arm64.whl (574 kB)\n",
      "\u001b[2K   \u001b[38;2;114;156;31m━━━━━━━━━━━━━━━━━━━━━━━━━━━━━━━━━━━━━━━━\u001b[0m \u001b[32m574.9/574.9 kB\u001b[0m \u001b[31m11.9 MB/s\u001b[0m eta \u001b[36m0:00:00\u001b[0m MB/s\u001b[0m eta \u001b[36m0:00:01\u001b[0m\n",
      "\u001b[?25hDownloading click-8.1.7-py3-none-any.whl (97 kB)\n",
      "\u001b[2K   \u001b[38;2;114;156;31m━━━━━━━━━━━━━━━━━━━━━━━━━━━━━━━━━━━━━━━━\u001b[0m \u001b[32m97.9/97.9 kB\u001b[0m \u001b[31m6.5 MB/s\u001b[0m eta \u001b[36m0:00:00\u001b[0m\n",
      "\u001b[?25hDownloading joblib-1.3.2-py3-none-any.whl (302 kB)\n",
      "\u001b[2K   \u001b[38;2;114;156;31m━━━━━━━━━━━━━━━━━━━━━━━━━━━━━━━━━━━━━━━━\u001b[0m \u001b[32m302.2/302.2 kB\u001b[0m \u001b[31m10.6 MB/s\u001b[0m eta \u001b[36m0:00:00\u001b[0m\n",
      "\u001b[?25hDownloading nltk-3.8.1-py3-none-any.whl (1.5 MB)\n",
      "\u001b[2K   \u001b[38;2;114;156;31m━━━━━━━━━━━━━━━━━━━━━━━━━━━━━━━━━━━━━━━━\u001b[0m \u001b[32m1.5/1.5 MB\u001b[0m \u001b[31m12.2 MB/s\u001b[0m eta \u001b[36m0:00:00\u001b[0m31m13.3 MB/s\u001b[0m eta \u001b[36m0:00:01\u001b[0m\n",
      "\u001b[?25hDownloading scikit_learn-1.4.1.post1-cp39-cp39-macosx_12_0_arm64.whl (10.5 MB)\n",
      "\u001b[2K   \u001b[38;2;114;156;31m━━━━━━━━━━━━━━━━━━━━━━━━━━━━━━━━━━━━━━━━\u001b[0m \u001b[32m10.5/10.5 MB\u001b[0m \u001b[31m11.7 MB/s\u001b[0m eta \u001b[36m0:00:00\u001b[0m[36m0:00:01\u001b[0m eta \u001b[36m0:00:01\u001b[0m\n",
      "\u001b[?25hDownloading scipy-1.12.0-cp39-cp39-macosx_12_0_arm64.whl (31.4 MB)\n",
      "\u001b[2K   \u001b[38;2;114;156;31m━━━━━━━━━━━━━━━━━━━━━━━━━━━━━━━━━━━━━━━━\u001b[0m \u001b[32m31.4/31.4 MB\u001b[0m \u001b[31m13.3 MB/s\u001b[0m eta \u001b[36m0:00:00\u001b[0mm eta \u001b[36m0:00:01\u001b[0m[36m0:00:01\u001b[0m\n",
      "\u001b[?25hDownloading threadpoolctl-3.4.0-py3-none-any.whl (17 kB)\n",
      "Building wheels for collected packages: python-crfsuite\n",
      "  Building wheel for python-crfsuite (setup.py) ... \u001b[?25ldone\n",
      "\u001b[?25h  Created wheel for python-crfsuite: filename=python_crfsuite-0.9.10-cp39-cp39-macosx_10_9_universal2.whl size=356434 sha256=40bad072e25adc4c2efb2c449e4f314201db0d242f61d57319b79f97b26abe00\n",
      "  Stored in directory: /Users/macos/Library/Caches/pip/wheels/5b/b1/50/c3968fccfbb84577c99225731a8ec1e905a66977e466aa6a5a\n",
      "Successfully built python-crfsuite\n",
      "Installing collected packages: underthesea-core, python-crfsuite, threadpoolctl, scipy, joblib, Click, scikit-learn, nltk, underthesea\n",
      "\u001b[33m  WARNING: The script nltk is installed in '/Users/macos/Library/Python/3.9/bin' which is not on PATH.\n",
      "  Consider adding this directory to PATH or, if you prefer to suppress this warning, use --no-warn-script-location.\n",
      "  NOTE: The current PATH contains path(s) starting with `~`, which may not be expanded by all applications.\u001b[0m\u001b[33m\n",
      "\u001b[0m\u001b[33m  WARNING: The script underthesea is installed in '/Users/macos/Library/Python/3.9/bin' which is not on PATH.\n",
      "  Consider adding this directory to PATH or, if you prefer to suppress this warning, use --no-warn-script-location.\n",
      "  NOTE: The current PATH contains path(s) starting with `~`, which may not be expanded by all applications.\u001b[0m\u001b[33m\n",
      "\u001b[0mSuccessfully installed Click-8.1.7 joblib-1.3.2 nltk-3.8.1 python-crfsuite-0.9.10 scikit-learn-1.4.1.post1 scipy-1.12.0 threadpoolctl-3.4.0 underthesea-6.8.0 underthesea-core-1.0.4\n",
      "\n",
      "\u001b[1m[\u001b[0m\u001b[34;49mnotice\u001b[0m\u001b[1;39;49m]\u001b[0m\u001b[39;49m A new release of pip is available: \u001b[0m\u001b[31;49m23.3.1\u001b[0m\u001b[39;49m -> \u001b[0m\u001b[32;49m24.0\u001b[0m\n",
      "\u001b[1m[\u001b[0m\u001b[34;49mnotice\u001b[0m\u001b[1;39;49m]\u001b[0m\u001b[39;49m To update, run: \u001b[0m\u001b[32;49m/Library/Developer/CommandLineTools/usr/bin/python3 -m pip install --upgrade pip\u001b[0m\n"
     ]
    }
   ],
   "source": [
    "!pip3 install underthesea"
   ]
  },
  {
   "cell_type": "code",
   "execution_count": null,
   "metadata": {},
   "outputs": [],
   "source": [
    "tag_sentence = 'Dịch vụ đặt vé trực tuyến của chúng tôi, EasyBooking, giúp bạn dễ dàng tìm kiếm, so sánh và đặt vé máy bay, khách sạn và tour du lịch. Với giao diện thân thiện và tính năng tiện lợi, chúng tôi mang đến trải nghiệm đặt vé nhanh chóng và tiết kiệm thời gian cho bạn'"
   ]
  },
  {
   "cell_type": "code",
   "execution_count": null,
   "metadata": {},
   "outputs": [],
   "source": [
    "from underthesea import pos_tag, chunk, classify\n",
    "\n",
    "pos_str = pos_tag(tag_sentence)\n",
    "text_group = set([word for word,tag,num in chunk(tag_sentence) if tag == 'Np' or tag == 'N' or tag == 'V'])\n",
    "# class_of_text = classify(tag_sentence)\n",
    "nouns = set([word for word,tag in pos_str if tag == 'Np' or tag == 'N'])\n",
    "print(text_group)"
   ]
  },
  {
   "cell_type": "markdown",
   "metadata": {},
   "source": [
    "# Viet IDEA Spam Filtering"
   ]
  },
  {
   "cell_type": "code",
   "execution_count": null,
   "metadata": {},
   "outputs": [],
   "source": [
    "!pip3 install pandas numpy seaborn matplotlib scikit-learn keras tensorflow gensim"
   ]
  },
  {
   "cell_type": "code",
   "execution_count": 44,
   "metadata": {},
   "outputs": [],
   "source": [
    "import pandas as pd\n",
    "import numpy as np\n",
    "import matplotlib.pyplot as plt\n",
    "import seaborn as sns\n",
    "from sklearn.model_selection import train_test_split\n",
    "from sklearn.preprocessing import LabelEncoder\n",
    "from keras.models import Model\n",
    "from keras.layers import LSTM, Activation, Dense, Dropout, Input, Embedding\n",
    "# tf.keras.optimizers.legacy.RMSprop\n",
    "from keras.src.optimizers.legacy.rmsprop import RMSprop\n",
    "from keras.src.optimizers import Adam\n",
    "from keras.preprocessing.text import Tokenizer\n",
    "from keras.preprocessing import sequence\n",
    "from keras.utils import to_categorical\n",
    "from keras.callbacks import EarlyStopping\n",
    "%matplotlib inline"
   ]
  },
  {
   "cell_type": "code",
   "execution_count": null,
   "metadata": {},
   "outputs": [
    {
     "ename": "",
     "evalue": "",
     "output_type": "error",
     "traceback": [
      "\u001b[1;31mFailed to start the Kernel. \n",
      "\u001b[1;31mHTTP 404: Not Found (Kernel does not exist: 78934c69-838d-479c-b7c0-c5ef6c6924ab). \n",
      "\u001b[1;31mView Jupyter <a href='command:jupyter.viewOutput'>log</a> for further details."
     ]
    }
   ],
   "source": [
    "import pandas as pd\n",
    "\n",
    "abs_path = '/Users/macos/Code/Graduation/share-your-idea/ml-server/'\n",
    "invalid_1 = pd.read_csv(abs_path + \"data/random_str.csv\", delimiter=',')\n",
    "invalid_0 = pd.read_csv(abs_path + \"data/vie/spam.csv\", delimiter=';')\n",
    "semantic = pd.read_csv(abs_path + \"data/vie/valid_idea.csv\", delimiter=';', usecols=['sentence', 'spam'])\n",
    "\n",
    "invalid_0.head()\n",
    "invalid_1.head()\n",
    "semantic.head()\n",
    "\n",
    "frames = [invalid_0, semantic, invalid_1]\n",
    " \n",
    "df = pd.concat(frames)\n",
    "\n",
    "df.sample(10)"
   ]
  },
  {
   "cell_type": "code",
   "execution_count": 15,
   "metadata": {},
   "outputs": [
    {
     "data": {
      "text/plain": [
       "Text(0.5, 1.0, 'Number of ham (1) and spam (0) ideas')"
      ]
     },
     "execution_count": 15,
     "metadata": {},
     "output_type": "execute_result"
    },
    {
     "data": {
      "image/png": "[encoded data removed]",
      "text/plain": [
       "<Figure size 640x480 with 1 Axes>"
      ]
     },
     "metadata": {},
     "output_type": "display_data"
    }
   ],
   "source": [
    "sns.countplot(df, x=\"spam\")\n",
    "plt.xlabel('Label')\n",
    "plt.title('Number of ham (1) and spam (0) ideas')"
   ]
  },
  {
   "cell_type": "code",
   "execution_count": 16,
   "metadata": {},
   "outputs": [],
   "source": [
    "X = df.sentence\n",
    "Y = df.spam\n",
    "le = LabelEncoder()\n",
    "Y = le.fit_transform(Y)\n",
    "Y = Y.reshape(-1,1)\n",
    "X_train,X_test,Y_train,Y_test = train_test_split(X,Y,test_size=0.15)"
   ]
  },
  {
   "cell_type": "code",
   "execution_count": 17,
   "metadata": {},
   "outputs": [],
   "source": [
    "max_words = 1000\n",
    "max_len = 150\n",
    "tok = Tokenizer(num_words=max_words)\n",
    "tok.fit_on_texts(X_train)\n",
    "sequences = tok.texts_to_sequences(X_train)\n",
    "sequences_matrix = sequence.pad_sequences(sequences,maxlen=max_len)"
   ]
  },
  {
   "cell_type": "code",
   "execution_count": 18,
   "metadata": {},
   "outputs": [],
   "source": [
    "# rnn_weights_file = \n",
    "def RNN():\n",
    "  inputs = Input(name='inputs',shape=[max_len])\n",
    "  layer = Embedding(max_words,50,input_length=max_len)(inputs)\n",
    "  layer = LSTM(64)(layer)\n",
    "  layer = Dense(256,name='FC1')(layer)\n",
    "  layer = Activation('relu')(layer)\n",
    "  layer = Dropout(0.5)(layer)\n",
    "  layer = Dense(1,name='out_layer')(layer)\n",
    "  layer = Activation('sigmoid')(layer)\n",
    "  model = Model(inputs=inputs,outputs=layer)\n",
    "  # model.load_weights(rnn_weights_file)\n",
    "  return model"
   ]
  },
  {
   "cell_type": "code",
   "execution_count": 64,
   "metadata": {},
   "outputs": [
    {
     "name": "stdout",
     "output_type": "stream",
     "text": [
      "Model: \"model_5\"\n",
      "_________________________________________________________________\n",
      " Layer (type)                Output Shape              Param #   \n",
      "=================================================================\n",
      " inputs (InputLayer)         [(None, 150)]             0         \n",
      "                                                                 \n",
      " embedding_5 (Embedding)     (None, 150, 50)           50000     \n",
      "                                                                 \n",
      " lstm_5 (LSTM)               (None, 64)                29440     \n",
      "                                                                 \n",
      " FC1 (Dense)                 (None, 256)               16640     \n",
      "                                                                 \n",
      " activation_10 (Activation)  (None, 256)               0         \n",
      "                                                                 \n",
      " dropout_5 (Dropout)         (None, 256)               0         \n",
      "                                                                 \n",
      " out_layer (Dense)           (None, 1)                 257       \n",
      "                                                                 \n",
      " activation_11 (Activation)  (None, 1)                 0         \n",
      "                                                                 \n",
      "=================================================================\n",
      "Total params: 96337 (376.32 KB)\n",
      "Trainable params: 96337 (376.32 KB)\n",
      "Non-trainable params: 0 (0.00 Byte)\n",
      "_________________________________________________________________\n"
     ]
    }
   ],
   "source": [
    "import tensorflow as tf\n",
    "\n",
    "optimizer = tf.keras.optimizers.legacy.Adam(learning_rate=1e-3) ## for mac\n",
    "# optimizer = tf.keras.optimizers.Adam(learning_rate=1e-3)\n",
    "\n",
    "model = RNN()\n",
    "model.summary()\n",
    "model.compile(loss='binary_crossentropy',optimizer=optimizer,metrics=['accuracy'])"
   ]
  },
  {
   "cell_type": "code",
   "execution_count": 121,
   "metadata": {},
   "outputs": [
    {
     "ename": "ModuleNotFoundError",
     "evalue": "No module named 'tensorflow.keras.layers'",
     "output_type": "error",
     "traceback": [
      "\u001b[0;31m---------------------------------------------------------------------------\u001b[0m",
      "\u001b[0;31mModuleNotFoundError\u001b[0m                       Traceback (most recent call last)",
      "Cell \u001b[0;32mIn[121], line 2\u001b[0m\n\u001b[1;32m      1\u001b[0m \u001b[39mimport\u001b[39;00m \u001b[39mtensorflow\u001b[39;00m \u001b[39mas\u001b[39;00m \u001b[39mtf\u001b[39;00m\n\u001b[0;32m----> 2\u001b[0m \u001b[39mfrom\u001b[39;00m \u001b[39mtensorflow\u001b[39;00m\u001b[39m.\u001b[39;00m\u001b[39mkeras\u001b[39;00m\u001b[39m.\u001b[39;00m\u001b[39mlayers\u001b[39;00m \u001b[39mimport\u001b[39;00m Input, Embedding, LSTM, Dense, Activation, Dropout\n\u001b[1;32m      3\u001b[0m \u001b[39mfrom\u001b[39;00m \u001b[39mtensorflow\u001b[39;00m\u001b[39m.\u001b[39;00m\u001b[39mkeras\u001b[39;00m\u001b[39m.\u001b[39;00m\u001b[39mmodels\u001b[39;00m \u001b[39mimport\u001b[39;00m Model\n\u001b[1;32m      5\u001b[0m \u001b[39mdef\u001b[39;00m \u001b[39mRNN\u001b[39m(max_len, max_words):\n",
      "\u001b[0;31mModuleNotFoundError\u001b[0m: No module named 'tensorflow.keras.layers'"
     ]
    }
   ],
   "source": [
    "import tensorflow as tf\n",
    "from tensorflow.keras.layers import Input, Embedding, LSTM, Dense, Activation, Dropout\n",
    "from tensorflow.keras.models import Model\n",
    "\n",
    "def RNN(max_len, max_words):\n",
    "    inputs = Input(name='inputs', shape=[max_len])\n",
    "    layer = Embedding(max_words, 50, input_length=max_len)(inputs)\n",
    "    layer = LSTM(64)(layer)\n",
    "    layer = Dense(256, name='FC1')(layer)\n",
    "    layer = Activation('relu')(layer)\n",
    "    layer = Dropout(0.5)(layer)\n",
    "    layer = Dense(1, name='out_layer')(layer)\n",
    "    layer = Activation('sigmoid')(layer)\n",
    "    model = Model(inputs=inputs, outputs=layer)\n",
    "    return model"
   ]
  },
  {
   "cell_type": "code",
   "execution_count": null,
   "metadata": {},
   "outputs": [],
   "source": [
    "!pip3 install tensorflow keras"
   ]
  },
  {
   "cell_type": "code",
   "execution_count": null,
   "metadata": {},
   "outputs": [],
   "source": [
    "!pip3 show tensorflow"
   ]
  },
  {
   "cell_type": "code",
   "execution_count": 65,
   "metadata": {},
   "outputs": [
    {
     "name": "stdout",
     "output_type": "stream",
     "text": [
      "Epoch 1/3\n",
      "27/27 [==============================] - 6s 136ms/step - loss: 0.4373 - accuracy: 0.8522 - val_loss: 0.1670 - val_accuracy: 0.9545\n",
      "Epoch 2/3\n",
      "27/27 [==============================] - 2s 86ms/step - loss: 0.0820 - accuracy: 0.9772 - val_loss: 0.0342 - val_accuracy: 0.9928\n",
      "Epoch 3/3\n",
      "27/27 [==============================] - 2s 77ms/step - loss: 0.0318 - accuracy: 0.9931 - val_loss: 0.0186 - val_accuracy: 0.9940\n"
     ]
    }
   ],
   "source": [
    "history = model.fit(sequences_matrix,Y_train,batch_size=128,epochs=3,\n",
    "          validation_split=0.2,callbacks=[EarlyStopping(monitor='val_loss',min_delta=0.0001)])"
   ]
  },
  {
   "cell_type": "code",
   "execution_count": 87,
   "metadata": {},
   "outputs": [
    {
     "data": {
      "text/plain": [
       "(4171, 1)"
      ]
     },
     "execution_count": 87,
     "metadata": {},
     "output_type": "execute_result"
    }
   ],
   "source": [
    "Y_train.shape"
   ]
  },
  {
   "cell_type": "code",
   "execution_count": 66,
   "metadata": {},
   "outputs": [],
   "source": [
    "test_sequences = tok.texts_to_sequences(X_test)\n",
    "test_sequences_matrix = sequence.pad_sequences(test_sequences,maxlen=max_len)"
   ]
  },
  {
   "cell_type": "code",
   "execution_count": 50,
   "metadata": {},
   "outputs": [
    {
     "name": "stdout",
     "output_type": "stream",
     "text": [
      "24/24 [==============================] - 0s 16ms/step - loss: 0.0422 - accuracy: 0.9851\n"
     ]
    }
   ],
   "source": [
    "accr = model.evaluate(test_sequences_matrix,Y_test)"
   ]
  },
  {
   "cell_type": "code",
   "execution_count": 51,
   "metadata": {},
   "outputs": [
    {
     "name": "stdout",
     "output_type": "stream",
     "text": [
      "Test set\n",
      "  Loss: 0.042\n",
      "  Accuracy: 0.985\n"
     ]
    }
   ],
   "source": [
    "print('Test set\\n  Loss: {:0.3f}\\n  Accuracy: {:0.3f}'.format(accr[0],accr[1]))"
   ]
  },
  {
   "cell_type": "code",
   "execution_count": 52,
   "metadata": {},
   "outputs": [
    {
     "data": {
      "image/png": "[encoded data removed]",
      "text/plain": [
       "<Figure size 640x480 with 1 Axes>"
      ]
     },
     "metadata": {},
     "output_type": "display_data"
    },
    {
     "data": {
      "image/png": "[encoded data removed]",
      "text/plain": [
       "<Figure size 640x480 with 1 Axes>"
      ]
     },
     "metadata": {},
     "output_type": "display_data"
    }
   ],
   "source": [
    "import matplotlib.pyplot as plt\n",
    "\n",
    "acc = history.history['accuracy']\n",
    "val_acc = history.history['val_accuracy']\n",
    "loss = history.history['loss']\n",
    "val_loss = history.history['val_loss']\n",
    "epochs = range(1, len(acc) + 1)\n",
    "plt.plot(epochs, acc, 'bo', label='Training acc')\n",
    "plt.plot(epochs, val_acc, 'b', label='Validation acc')\n",
    "plt.title('Training and validation accuracy')\n",
    "plt.legend()\n",
    "plt.figure()\n",
    "plt.plot(epochs, loss, 'bo', label='Training loss')\n",
    "plt.plot(epochs, val_loss, 'b', label='Validation loss')\n",
    "plt.title('Training and validation loss')\n",
    "plt.legend()\n",
    "plt.show()"
   ]
  },
  {
   "cell_type": "code",
   "execution_count": 53,
   "metadata": {},
   "outputs": [
    {
     "name": "stdout",
     "output_type": "stream",
     "text": [
      "1/1 [==============================] - 0s 326ms/step\n",
      "[[0.99970335]\n",
      " [0.99652594]\n",
      " [0.04020244]\n",
      " [0.99343973]\n",
      " [0.9745758 ]] 454     Một nền tảng tiếp thị sử dụng máy học để thu t...\n",
      "1071    Một công ty khởi nghiệp muốn đảm bảo rằng dữ l...\n",
      "675     Những cái cây chết chờ đợi để được châm ngòi b...\n",
      "2247    Một nền tảng cho vay được thiết kế để giúp ngư...\n",
      "1855    Một startup giúp nhà tuyển dụng kết nối với nh...\n",
      "Name: sentence, dtype: object\n"
     ]
    }
   ],
   "source": [
    "word_idx = 80\n",
    "prediction = model.predict(test_sequences_matrix[word_idx:word_idx+5])\n",
    "print(prediction, X_test[word_idx:word_idx+5])"
   ]
  },
  {
   "cell_type": "code",
   "execution_count": null,
   "metadata": {},
   "outputs": [],
   "source": [
    "model = RNN()\n",
    "model.summary()\n",
    "model.compile(loss='binary_crossentropy',optimizer=optimizer,metrics=['accuracy'])"
   ]
  },
  {
   "cell_type": "code",
   "execution_count": 54,
   "metadata": {},
   "outputs": [],
   "source": [
    "import pickle\n",
    "\n",
    "# https://machinelearningmastery.com/save-load-keras-deep-learning-models/\n",
    "# save the iris classification model as a pickle file\n",
    "model_pkl_file = \"../src/model/spam_filtering.pkl\"  \n",
    "model_json_file = \"../src/model/spam_filtering.json\"\n",
    "model_weights_file = \"../src/model/weights.h5py\"\n",
    "\n",
    "\n",
    "# serialize model to JSON\n",
    "model_json = model.to_json()\n",
    "with open(model_json_file, 'w') as file:  \n",
    "  file.write(model_json)\n",
    "\n",
    "# serialize weights to HDF5\n",
    "model.save_weights(model_weights_file)"
   ]
  },
  {
   "cell_type": "code",
   "execution_count": 67,
   "metadata": {},
   "outputs": [],
   "source": [
    "from keras.models import load_model, save_model\n",
    "\n",
    "# Assuming you have a model named 'model'\n",
    "\n",
    "save_model_file='../src/model/lstm.keras'\n",
    "save_model(model, save_model_file)  # Save the model to a HDF5 file\n",
    "# model.save(save_model_file)"
   ]
  },
  {
   "cell_type": "code",
   "execution_count": null,
   "metadata": {},
   "outputs": [],
   "source": [
    "# Load the model from the saved HDF5 file\n",
    "save_model_file='../src/model/lstm.keras'\n",
    "model = load_model(save_model_file)"
   ]
  },
  {
   "cell_type": "code",
   "execution_count": 99,
   "metadata": {},
   "outputs": [
    {
     "name": "stdout",
     "output_type": "stream",
     "text": [
      "Name: keras\n",
      "Version: 2.14.0\n",
      "Summary: Deep learning for humans.\n",
      "Home-page: https://keras.io/\n",
      "Author: Keras team\n",
      "Author-email: keras-users@googlegroups.com\n",
      "License: Apache 2.0\n",
      "Location: /Users/macos/Library/Python/3.9/lib/python/site-packages\n",
      "Requires: \n",
      "Required-by: tensorflow-macos\n"
     ]
    }
   ],
   "source": [
    "!pip3 show keras"
   ]
  },
  {
   "cell_type": "code",
   "execution_count": 102,
   "metadata": {},
   "outputs": [
    {
     "name": "stdout",
     "output_type": "stream",
     "text": [
      "Name: tensorflow\n",
      "Version: 2.14.0\n",
      "Summary: TensorFlow is an open source machine learning framework for everyone.\n",
      "Home-page: https://www.tensorflow.org/\n",
      "Author: Google Inc.\n",
      "Author-email: packages@tensorflow.org\n",
      "License: Apache 2.0\n",
      "Location: /Users/macos/Library/Python/3.9/lib/python/site-packages\n",
      "Requires: tensorflow-macos\n",
      "Required-by: \n"
     ]
    }
   ],
   "source": [
    "!pip3 show tensorflow"
   ]
  },
  {
   "cell_type": "code",
   "execution_count": 27,
   "metadata": {},
   "outputs": [],
   "source": [
    "def input(new_sentence, ai_model):\n",
    "  new_sentence = new_sentence + \".\"\n",
    "  test_sequences = tok.texts_to_sequences([new_sentence])\n",
    "  test_sequences_matrix = sequence.pad_sequences(test_sequences, maxlen=max_len)\n",
    "  prediction = ai_model.predict(test_sequences_matrix)\n",
    "  label = \"SPAM\"\n",
    "  if prediction > 0.5:\n",
    "    label = \"VALID\"\n",
    "  print(prediction, label, new_sentence[:30] + '...')\n",
    "  # print(test_sequences_matrix)"
   ]
  },
  {
   "cell_type": "code",
   "execution_count": 37,
   "metadata": {},
   "outputs": [],
   "source": [
    "docs = \"\"\"Một ống kính độ dài 2.5cm đang chỉa thẳng xuống mặt đất để đo đạc và chụp lại\"\"\" #Spam"
   ]
  },
  {
   "cell_type": "code",
   "execution_count": 30,
   "metadata": {},
   "outputs": [],
   "source": [
    "docs = \"\"\"MR.Bean là một sản phẩm tái tạo năng lượng bằng hệ thống xử lí chất thải sinh học tự động\"\"\" #Spam"
   ]
  },
  {
   "cell_type": "code",
   "execution_count": 22,
   "metadata": {},
   "outputs": [],
   "source": [
    "docs = \"\"\"Agelina - đứa con của công ty mẹ Egosh, là sàn thương mại điện tử nức tiếng nước Đức\"\"\" #Spam"
   ]
  },
  {
   "cell_type": "code",
   "execution_count": 28,
   "metadata": {},
   "outputs": [],
   "source": [
    "docs = \"\"\"\"SmartMirror Health Monitor\" là một hệ thống kết hợp gương trang điểm thông minh với chức năng theo dõi sức khỏe. Gương sẽ hiển thị thông tin về nhịp tim, nhiệt độ cơ thể và các thông số sức khỏe khác. Ngoài ra, nó cũng cung cấp các gợi ý về dinh dưỡng và chế độ tập luyện dựa trên dữ liệu cá nhân. SmartMirror Health Monitor giúp người dùng theo dõi sức khỏe một cách thuận tiện trong khi trang điểm hoặc thay đồ hàng ngày.\"\"\" #Valid"
   ]
  },
  {
   "cell_type": "code",
   "execution_count": 29,
   "metadata": {},
   "outputs": [],
   "source": [
    "docs = \"\"\"Exlaix là một hệ thống xác thực hai yếu tố mạnh mẽ và dễ sử dụng. Hệ thống này sẽ kết hợp việc yêu cầu mật khẩu độc đáo cùng với mã xác thực được gửi đến điện thoại di động của chủ sở hữu kênh mỗi khi có hoạt động đăng nhập từ một thiết bị mới. Ngoài ra, việc cung cấp các công cụ giám sát hoạt động đăng nhập từ các địa điểm không thường xuyên hoặc từ các thiết bị không xác định cũng là một phương tiện hiệu quả để nhận biết và ngăn chặn các nỗ lực tấn công\"\"\" #Valid"
   ]
  },
  {
   "cell_type": "code",
   "execution_count": 55,
   "metadata": {},
   "outputs": [],
   "source": [
    "docs = \"\"\"Sản phẩm TechSmart đem đến cho bạn sự tiện ích và khả năng kết nối thông minh. Với tính năng đột phá và hiệu suất cao, chúng tôi giúp bạn trải nghiệm công nghệ tối ưu và tận hưởng cuộc sống hiện đại\"\"\" #Spam"
   ]
  },
  {
   "cell_type": "code",
   "execution_count": 38,
   "metadata": {},
   "outputs": [
    {
     "name": "stdout",
     "output_type": "stream",
     "text": [
      "1/1 [==============================] - 0s 20ms/step\n",
      "[[0.03636729]] SPAM Một ống kính độ dài 2.5cm đang...\n"
     ]
    }
   ],
   "source": [
    "input(docs, model)"
   ]
  },
  {
   "cell_type": "markdown",
   "metadata": {},
   "source": [
    "### Gibberish Detector"
   ]
  },
  {
   "cell_type": "code",
   "execution_count": 1,
   "metadata": {},
   "outputs": [
    {
     "name": "stdout",
     "output_type": "stream",
     "text": [
      "Defaulting to user installation because normal site-packages is not writeable\n",
      "Requirement already satisfied: gibberish-detector in /Users/macos/Library/Python/3.9/lib/python/site-packages (0.1.1)\n"
     ]
    }
   ],
   "source": [
    "!pip3 install gibberish-detector"
   ]
  },
  {
   "cell_type": "code",
   "execution_count": 3,
   "metadata": {},
   "outputs": [
    {
     "name": "stdout",
     "output_type": "stream",
     "text": [
      "zsh:1: command not found: gibberish-detector\n"
     ]
    }
   ],
   "source": [
    "!gibberish-detector train data/WIKI.txt > vie.model"
   ]
  },
  {
   "cell_type": "code",
   "execution_count": null,
   "metadata": {},
   "outputs": [],
   "source": [
    "from gibberish_detector import detector\n",
    "\n",
    "# open('data/WIKI.txt')\n",
    "\n",
    "Detector = detector.create_from_model('vie.model')\n",
    "print(Detector.is_gibberish('Chào, tớ là osijd lldkn qwoie')) #Gibberish"
   ]
  },
  {
   "cell_type": "code",
   "execution_count": 31,
   "metadata": {},
   "outputs": [],
   "source": [
    "import pandas as pd\n",
    "import sys\n",
    "from underthesea import chunk, pos_tag\n",
    "from keras.models import Sequential, model_from_json\n",
    "from keras.preprocessing.text import Tokenizer\n",
    "from keras.preprocessing import sequence\n",
    "from gensim.models import KeyedVectors\n",
    "from gensim import models\n",
    "from gibberish_detector import detector\n",
    "import pickle\n",
    "\n",
    "model_json_file = \"../src/model/spam_filtering.json\"\n",
    "model_weights_file = \"../src/model/weights.h5py\"\n",
    "word2vec_path='../src/model/word2vec.vie.model.bin'\n",
    "gibberish_path='../src/model/gibberish.vie.model'\n",
    "max_words = 1000\n",
    "max_len = 150\n",
    "\n",
    "# with open(model_json_file, 'r') as file:  \n",
    "#   json_model = file.read()\n",
    "#   lstm_model = model_from_json(json_model)\n",
    "#   lstm_model.load_weights(model_weights_file)\n",
    "#   lstm_model.compile(loss='binary_crossentropy',optimizer=Adam(learning_rate=1e-3),metrics=['accuracy'])\n",
    "\n",
    "class SpamFiltering:\n",
    "  def __init__(self, lstm_model) -> None:\n",
    "    self.tokenizer = Tokenizer(num_words=max_words)\n",
    "    self.detector = detector.create_from_model(gibberish_path)\n",
    "    self.lstm_model = lstm_model\n",
    "\n",
    "  def is_idea_spam(self, idea_object):\n",
    "    desc = [idea_object.solution + '.']\n",
    "    print(desc)\n",
    "    if self.detector.is_gibberish(desc):\n",
    "      return \"SPAM\"\n",
    "    self.tokenizer.fit_on_texts(desc)\n",
    "    test_sequences = self.tokenizer.texts_to_sequences(desc)\n",
    "    test_sequences_matrix = sequence.pad_sequences(test_sequences, maxlen=max_len)\n",
    "    print(test_sequences)\n",
    "    prediction = self.lstm_model.predict(test_sequences_matrix)\n",
    "    # prediction = model.predict(test_sequences_matrix)\n",
    "    label = \"SPAM\"\n",
    "    if prediction > 0.5:\n",
    "      label = \"VALID\"\n",
    "    elif prediction > 0.3:\n",
    "      label = \"WARNING\"\n",
    "    print(prediction, f' -> {label} :: \"{desc[:30]}...\"')\n",
    "    return label"
   ]
  },
  {
   "cell_type": "code",
   "execution_count": 34,
   "metadata": {},
   "outputs": [],
   "source": [
    "class IdeaObj:\n",
    "  def __init__(self,problem='',solution='') -> None:\n",
    "    self.problem=problem\n",
    "    self.solution=solution"
   ]
  },
  {
   "cell_type": "code",
   "execution_count": 36,
   "metadata": {},
   "outputs": [
    {
     "name": "stdout",
     "output_type": "stream",
     "text": [
      "['Ứng dụng kết hợp với cảm biến đất, ánh sáng và nước để giám sát và quản lý cây trồng. Người dùng sẽ nhận được thông báo để tưới nước, bón phân và chăm sóc cây đúng cách, tạo điều kiện tối ưu cho sự phát triển và sức khỏe của cây..']\n",
      "[[5, 6, 7, 8, 9, 10, 11, 12, 13, 14, 1, 3, 4, 15, 16, 1, 17, 18, 2, 19, 20, 21, 22, 23, 24, 25, 26, 4, 27, 3, 28, 29, 1, 30, 31, 2, 32, 33, 34, 35, 36, 37, 38, 39, 40, 41, 42, 1, 43, 44, 45, 2]]\n",
      "1/1 [==============================] - 0s 307ms/step\n",
      "[[0.99994195]]  -> VALID :: \"['Ứng dụng kết hợp với cảm biến đất, ánh sáng và nước để giám sát và quản lý cây trồng. Người dùng sẽ nhận được thông báo để tưới nước, bón phân và chăm sóc cây đúng cách, tạo điều kiện tối ưu cho sự phát triển và sức khỏe của cây..']...\"\n"
     ]
    }
   ],
   "source": [
    "def main():\n",
    "  try:\n",
    "    lstm_model=None\n",
    "    with open(model_json_file, 'r') as file:  \n",
    "      json_model = file.read()\n",
    "      lstm_model = model_from_json(json_model)\n",
    "      lstm_model.load_weights(model_weights_file).expect_partial()\n",
    "      # lstm_model.compile(loss='binary_crossentropy',optimizer=Adam(learning_rate=1e-3),metrics=['accuracy'])\n",
    "    spam = SpamFiltering(lstm_model)\n",
    "    problem='tài chính'\n",
    "    solution=\"Một ứng dụng cho phép người dùng quản lí tài chính cá nhân bằng trực quan hóa số liệu và hỗ trợ quyết định đầu tư, tiết kiệm.\"\n",
    "    solution=\"\"\"Ứng dụng kết hợp với cảm biến đất, ánh sáng và nước để giám sát và quản lý cây trồng. Người dùng sẽ nhận được thông báo để tưới nước, bón phân và chăm sóc cây đúng cách, tạo điều kiện tối ưu cho sự phát triển và sức khỏe của cây.\"\"\"\n",
    "    idea = IdeaObj(problem=problem, solution=solution)\n",
    "    spam.is_idea_spam(idea)\n",
    "  except ValueError as ve:\n",
    "    return str(ve)\n",
    "\n",
    "main()"
   ]
  },
  {
   "cell_type": "markdown",
   "metadata": {},
   "source": [
    "# PyTorch RNN"
   ]
  },
  {
   "cell_type": "code",
   "execution_count": 98,
   "metadata": {},
   "outputs": [],
   "source": [
    "import torch\n",
    "from transformers import AutoModel, AutoTokenizer\n",
    "\n",
    "phobert = AutoModel.from_pretrained(\"vinai/phobert-base\")\n",
    "tokenizer = AutoTokenizer.from_pretrained(\"vinai/phobert-base\")"
   ]
  },
  {
   "cell_type": "code",
   "execution_count": 94,
   "metadata": {},
   "outputs": [],
   "source": [
    "import torch\n",
    "import torch.nn as nn\n",
    "\n",
    "max_words = 1000\n",
    "max_len = 150\n",
    "\n",
    "class RNN(nn.Module):\n",
    "    def __init__(self, max_words = max_words , max_len = max_len):\n",
    "        super(RNN, self).__init__()\n",
    "        self.embedding = nn.Embedding(max_words, 50)\n",
    "        self.lstm = nn.LSTM(50, 64, batch_first=True)\n",
    "        self.fc1 = nn.Linear(64, 256)\n",
    "        self.relu = nn.ReLU()\n",
    "        self.dropout = nn.Dropout(0.5)\n",
    "        self.fc2 = nn.Linear(256, 1)\n",
    "        self.sigmoid = nn.Sigmoid()\n",
    "    \n",
    "    def forward(self, inputs):\n",
    "        embed = self.embedding(inputs)\n",
    "        lstm_out, _ = self.lstm(embed)\n",
    "        lstm_out = lstm_out[:, -1, :]  # Take the output of the last time step\n",
    "        fc1_out = self.relu(self.fc1(lstm_out))\n",
    "        fc1_out = self.dropout(fc1_out)\n",
    "        out = self.sigmoid(self.fc2(fc1_out))\n",
    "        return out\n",
    "\n",
    "# Define the maximum number of words and maximum length\n",
    "max_words = 10000  # Example value, replace with actual value\n",
    "max_len = 150  # Example value, replace with actual value\n",
    "\n",
    "# Instantiate the model\n",
    "model = RNN(max_words, max_len)"
   ]
  },
  {
   "cell_type": "code",
   "execution_count": 93,
   "metadata": {},
   "outputs": [],
   "source": [
    "import torch\n",
    "\n",
    "class CustomDataset:\n",
    "    def __init__(self,reviews,sentiments):\n",
    "        self.reviews = reviews\n",
    "        self.sentiments = sentiments\n",
    "        \n",
    "    def __len__(self):\n",
    "        return len(self.reviews)\n",
    "\n",
    "    def __getitem__(self,item):\n",
    "        review = self.reviews[item,:]\n",
    "        target = self.sentiments[item]\n",
    "        return {\n",
    "            \"review\": torch.tensor(review,dtype = torch.long),\n",
    "            \"target\": torch.tensor(target,dtype = torch.long)\n",
    "        }"
   ]
  },
  {
   "cell_type": "code",
   "execution_count": 92,
   "metadata": {},
   "outputs": [
    {
     "data": {
      "text/plain": [
       "tensor([    0,  3248,   136,     8,    16,    43,   258,  2127, 16907, 27375,\n",
       "            2,     1,     1,     1,     1,     1,     1,     1,     1,     1,\n",
       "            1,     1,     1,     1,     1,     1,     1,     1,     1,     1,\n",
       "            1,     1,     1,     1,     1,     1,     1,     1,     1,     1,\n",
       "            1,     1,     1,     1,     1,     1,     1,     1,     1,     1])"
      ]
     },
     "execution_count": 92,
     "metadata": {},
     "output_type": "execute_result"
    }
   ],
   "source": [
    "# Example usage\n",
    "text = \"Hôm nay là một ngày đẹp trời.\"\n",
    "tokens = tokenizer(text, padding='max_length', truncation=True, max_length=50, return_tensors='pt')\n",
    "tokens['input_ids'][0]"
   ]
  },
  {
   "cell_type": "code",
   "execution_count": 96,
   "metadata": {},
   "outputs": [],
   "source": [
    "#Mean Pooling - Take attention mask into account for correct averaging\n",
    "def mean_pooling(model_output, attention_mask):\n",
    "    token_embeddings = model_output[0] #First element of model_output contains all token embeddings\n",
    "    input_mask_expanded = attention_mask.unsqueeze(-1).expand(token_embeddings.size()).float()\n",
    "    return torch.sum(token_embeddings * input_mask_expanded, 1) / torch.clamp(input_mask_expanded.sum(1), min=1e-9)\n"
   ]
  },
  {
   "cell_type": "code",
   "execution_count": null,
   "metadata": {},
   "outputs": [],
   "source": []
  },
  {
   "cell_type": "code",
   "execution_count": null,
   "metadata": {},
   "outputs": [],
   "source": [
    "from torch.optim import Adam\n",
    "import torch\n",
    "import torch.nn as nn\n",
    "from torch.utils.data import Dataset, DataLoader\n",
    "# Define your loss function and optimizer\n",
    "criterion = nn.CrossEntropyLoss()  # Use appropriate loss function\n",
    "\n",
    "learning_rate = 0.0001\n",
    "batch_size = 128\n",
    "num_epochs = 5\n",
    "\n",
    "# Define loss function and optimizer\n",
    "# criterion = nn.BCELoss()\n",
    "criterion = nn.CrossEntropyLoss()  # Use appropriate loss function\n",
    "optimizer = Adam(model.parameters(), lr=learning_rate)\n",
    "\n",
    "dataset = CustomDataset(df)\n",
    "\n",
    "# Create a PyTorch DataLoader\n",
    "dataloader = DataLoader(dataset, batch_size=batch_size, shuffle=True)\n",
    "\n",
    "# Instantiate the model\n",
    "model = RNN(tokenizer.vocab_size, 50)\n",
    "\n",
    "# Training loop\n",
    "for epoch in range(num_epochs):\n",
    "    # Training phase\n",
    "    model.train()\n",
    "    total_loss = 0.0\n",
    "    for inputs, targets in dataloader:\n",
    "        # Zero the gradients\n",
    "        optimizer.zero_grad()\n",
    "\n",
    "        # Forward pass\n",
    "        outputs = model(inputs)\n",
    "\n",
    "        # Compute the loss\n",
    "        loss = criterion(outputs, targets)\n",
    "        \n",
    "        # Backward pass\n",
    "        loss.backward()\n",
    "        \n",
    "        # Update the weights\n",
    "        optimizer.step()\n",
    "\n",
    "        # Accumulate the total loss\n",
    "        total_loss += loss.item() * len(inputs)\n",
    "\n",
    "    # Compute the average training loss for the epoch\n",
    "    avg_train_loss = total_loss / len(train_dataset)\n",
    "    print(f'Epoch [{epoch+1}/{num_epochs}], Loss: {loss.item():.4f}')"
   ]
  },
  {
   "cell_type": "code",
   "execution_count": null,
   "metadata": {},
   "outputs": [],
   "source": []
  },
  {
   "cell_type": "code",
   "execution_count": null,
   "metadata": {},
   "outputs": [],
   "source": [
    "def run(df):\n",
    "    y = df.sentiment.values\n",
    "    train_df,valid_df = train_test_split(df,test_size = 0.2, stratify = y)\n",
    "    \n",
    "    print('Fitting tokenizer')\n",
    "    tokenizer = tf.keras.preprocessing.text.Tokenizer()\n",
    "    tokenizer.fit_on_texts(df.review.values.tolist())\n",
    "    \n",
    "    xtrain = tokenizer.texts_to_sequences(train_df.review.values)\n",
    "    xtest = tokenizer.texts_to_sequences(valid_df.review.values)\n",
    "    xtrain = tf.keras.preprocessing.sequence.pad_sequences(xtrain,maxlen = MAX_LEN)\n",
    "    xtest = tf.keras.preprocessing.sequence.pad_sequences(xtest,maxlen = MAX_LEN)\n",
    "    train_dataset = CustomDataset(reviews=xtrain,sentiments=train_df.sentiment.values)\n",
    "    train_loader = torch.utils.data.DataLoader(train_dataset,batch_size=TRAIN_BATCH_SIZE,num_workers=2)\n",
    "    valid_dataset = CustomDataset(reviews=xtest,sentiments=valid_df.sentiment.values)\n",
    "    valid_loader = torch.utils.data.DataLoader(valid_dataset,batch_size=VALID_BATCH_SIZE,num_workers=2)\n",
    "    \n",
    "    print(\"Load embeddings\")\n",
    "    embedding_dict = load_vectors('../input/glove-embeddings/glove.6B.300d.txt')\n",
    "    embedding_matrix = create_embedding_matrix(tokenizer.word_index,embedding_dict)\n",
    "    # create a torch device since we are using cuda\n",
    "    device = torch.device(\"cuda\")\n",
    "    model = LSTM(embedding_matrix)\n",
    "    model.to(device)\n",
    "    optimizer = torch.optim.Adam(model.parameters(),lr = 1e-3)\n",
    "    print(\"Traning model\")\n",
    "    best_accuracy = 0\n",
    "    early_stopping_counter = 0\n",
    "    for epoch in range(1,EPOCHS+1):\n",
    "        train(train_loader,model,optimizer,device)\n",
    "        outputs,targets = evaluate(valid_loader,model,device)\n",
    "        outputs = np.array(outputs)>0.5\n",
    "        accuracy = metrics.accuracy_score(targets,outputs)\n",
    "        print(f\"EPOCH:{epoch}, Accuracy Score: {accuracy}\")\n",
    "        if accuracy>best_accuracy:\n",
    "            best_accuracy = accuracy\n",
    "        else:\n",
    "            early_stopping_counter +=1\n",
    "        if early_stopping_counter>2:\n",
    "            break\n",
    "            \n",
    "            "
   ]
  },
  {
   "cell_type": "code",
   "execution_count": null,
   "metadata": {},
   "outputs": [
    {
     "ename": "",
     "evalue": "",
     "output_type": "error",
     "traceback": [
      "\u001b[1;31mFailed to start the Kernel. \n",
      "\u001b[1;31mHTTP 404: Not Found (Kernel does not exist: 2f0c3a19-a470-42c6-b0d3-5520185600fe). \n",
      "\u001b[1;31mView Jupyter <a href='command:jupyter.viewOutput'>log</a> for further details."
     ]
    }
   ],
   "source": []
  }
 ],
 "metadata": {
  "kernelspec": {
   "display_name": "Python 3.9.6 64-bit",
   "language": "python",
   "name": "python3"
  },
  "language_info": {
   "codemirror_mode": {
    "name": "ipython",
    "version": 3
   },
   "file_extension": ".py",
   "mimetype": "text/x-python",
   "name": "python",
   "nbconvert_exporter": "python",
   "pygments_lexer": "ipython3",
   "version": "3.9.6"
  },
  "orig_nbformat": 4,
  "vscode": {
   "interpreter": {
    "hash": "31f2aee4e71d21fbe5cf8b01ff0e069b9275f58929596ceb00d14d90e3e16cd6"
   }
  }
 },
 "nbformat": 4,
 "nbformat_minor": 2
}
