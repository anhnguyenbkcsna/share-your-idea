{
 "cells": [
  {
   "cell_type": "code",
   "execution_count": null,
   "metadata": {},
   "outputs": [],
   "source": [
    "%pip install selenium"
   ]
  },
  {
   "cell_type": "code",
   "execution_count": 46,
   "metadata": {},
   "outputs": [
    {
     "ename": "NoSuchElementException",
     "evalue": "Message: no such element: Unable to locate element: {\"method\":\"xpath\",\"selector\":\"//input[@type='checkbox']\"}\n  (Session info: chrome=122.0.6261.129); For documentation on this error, please visit: https://www.selenium.dev/documentation/webdriver/troubleshooting/errors#no-such-element-exception\nStacktrace:\n0   chromedriver                        0x00000001050b4524 chromedriver + 3966244\n1   chromedriver                        0x00000001050acab0 chromedriver + 3934896\n2   chromedriver                        0x0000000104d2fda0 chromedriver + 277920\n3   chromedriver                        0x0000000104d72394 chromedriver + 549780\n4   chromedriver                        0x0000000104daabf0 chromedriver + 781296\n5   chromedriver                        0x0000000104d66fb0 chromedriver + 503728\n6   chromedriver                        0x0000000104d67a28 chromedriver + 506408\n7   chromedriver                        0x000000010507970c chromedriver + 3725068\n8   chromedriver                        0x000000010507dc00 chromedriver + 3742720\n9   chromedriver                        0x00000001050621f4 chromedriver + 3629556\n10  chromedriver                        0x000000010507e6fc chromedriver + 3745532\n11  chromedriver                        0x000000010505556c chromedriver + 3577196\n12  chromedriver                        0x000000010509cf5c chromedriver + 3870556\n13  chromedriver                        0x000000010509d100 chromedriver + 3870976\n14  chromedriver                        0x00000001050ac720 chromedriver + 3933984\n15  libsystem_pthread.dylib             0x000000018c5c2034 _pthread_start + 136\n16  libsystem_pthread.dylib             0x000000018c5bce3c thread_start + 8\n",
     "output_type": "error",
     "traceback": [
      "\u001b[0;31m---------------------------------------------------------------------------\u001b[0m",
      "\u001b[0;31mNoSuchElementException\u001b[0m                    Traceback (most recent call last)",
      "Cell \u001b[0;32mIn[46], line 53\u001b[0m\n\u001b[1;32m     50\u001b[0m     \u001b[39mprint\u001b[39m(input_element\u001b[39m.\u001b[39mtext)\n\u001b[1;32m     52\u001b[0m \u001b[39m# Initial message to start the conversation\u001b[39;00m\n\u001b[0;32m---> 53\u001b[0m login()\n\u001b[1;32m     54\u001b[0m \u001b[39m# initial_message = \"Hello, let's chat with GPT!\"\u001b[39;00m\n\u001b[1;32m     55\u001b[0m \u001b[39m# send_message(initial_message)\u001b[39;00m\n\u001b[1;32m     56\u001b[0m \n\u001b[1;32m     57\u001b[0m \u001b[39m# Function to get GPT's response\u001b[39;00m\n\u001b[1;32m     58\u001b[0m \u001b[39mdef\u001b[39;00m \u001b[39mget_response\u001b[39m():\n\u001b[1;32m     59\u001b[0m     \u001b[39m# Assuming GPT's response is in a specific element on the page\u001b[39;00m\n",
      "Cell \u001b[0;32mIn[46], line 32\u001b[0m, in \u001b[0;36mlogin\u001b[0;34m()\u001b[0m\n\u001b[1;32m     30\u001b[0m time\u001b[39m.\u001b[39msleep(\u001b[39m10\u001b[39m)\n\u001b[1;32m     31\u001b[0m \u001b[39m# captcha = driver.find_element(By.XPATH, '//*[@id=\"challenge-stage\"]/div/label/input')\u001b[39;00m\n\u001b[0;32m---> 32\u001b[0m captcha \u001b[39m=\u001b[39m driver\u001b[39m.\u001b[39;49mfind_element(By\u001b[39m.\u001b[39;49mXPATH, \u001b[39m\"\u001b[39;49m\u001b[39m//input[@type=\u001b[39;49m\u001b[39m'\u001b[39;49m\u001b[39mcheckbox\u001b[39;49m\u001b[39m'\u001b[39;49m\u001b[39m]\u001b[39;49m\u001b[39m\"\u001b[39;49m)\n\u001b[1;32m     33\u001b[0m \u001b[39mif\u001b[39;00m captcha\u001b[39m.\u001b[39mis_displayed():\n\u001b[1;32m     34\u001b[0m     captcha\u001b[39m.\u001b[39mclick()\n",
      "File \u001b[0;32m/opt/homebrew/lib/python3.10/site-packages/selenium/webdriver/remote/webdriver.py:741\u001b[0m, in \u001b[0;36mWebDriver.find_element\u001b[0;34m(self, by, value)\u001b[0m\n\u001b[1;32m    738\u001b[0m     by \u001b[39m=\u001b[39m By\u001b[39m.\u001b[39mCSS_SELECTOR\n\u001b[1;32m    739\u001b[0m     value \u001b[39m=\u001b[39m \u001b[39mf\u001b[39m\u001b[39m'\u001b[39m\u001b[39m[name=\u001b[39m\u001b[39m\"\u001b[39m\u001b[39m{\u001b[39;00mvalue\u001b[39m}\u001b[39;00m\u001b[39m\"\u001b[39m\u001b[39m]\u001b[39m\u001b[39m'\u001b[39m\n\u001b[0;32m--> 741\u001b[0m \u001b[39mreturn\u001b[39;00m \u001b[39mself\u001b[39;49m\u001b[39m.\u001b[39;49mexecute(Command\u001b[39m.\u001b[39;49mFIND_ELEMENT, {\u001b[39m\"\u001b[39;49m\u001b[39musing\u001b[39;49m\u001b[39m\"\u001b[39;49m: by, \u001b[39m\"\u001b[39;49m\u001b[39mvalue\u001b[39;49m\u001b[39m\"\u001b[39;49m: value})[\u001b[39m\"\u001b[39m\u001b[39mvalue\u001b[39m\u001b[39m\"\u001b[39m]\n",
      "File \u001b[0;32m/opt/homebrew/lib/python3.10/site-packages/selenium/webdriver/remote/webdriver.py:347\u001b[0m, in \u001b[0;36mWebDriver.execute\u001b[0;34m(self, driver_command, params)\u001b[0m\n\u001b[1;32m    345\u001b[0m response \u001b[39m=\u001b[39m \u001b[39mself\u001b[39m\u001b[39m.\u001b[39mcommand_executor\u001b[39m.\u001b[39mexecute(driver_command, params)\n\u001b[1;32m    346\u001b[0m \u001b[39mif\u001b[39;00m response:\n\u001b[0;32m--> 347\u001b[0m     \u001b[39mself\u001b[39;49m\u001b[39m.\u001b[39;49merror_handler\u001b[39m.\u001b[39;49mcheck_response(response)\n\u001b[1;32m    348\u001b[0m     response[\u001b[39m\"\u001b[39m\u001b[39mvalue\u001b[39m\u001b[39m\"\u001b[39m] \u001b[39m=\u001b[39m \u001b[39mself\u001b[39m\u001b[39m.\u001b[39m_unwrap_value(response\u001b[39m.\u001b[39mget(\u001b[39m\"\u001b[39m\u001b[39mvalue\u001b[39m\u001b[39m\"\u001b[39m, \u001b[39mNone\u001b[39;00m))\n\u001b[1;32m    349\u001b[0m     \u001b[39mreturn\u001b[39;00m response\n",
      "File \u001b[0;32m/opt/homebrew/lib/python3.10/site-packages/selenium/webdriver/remote/errorhandler.py:229\u001b[0m, in \u001b[0;36mErrorHandler.check_response\u001b[0;34m(self, response)\u001b[0m\n\u001b[1;32m    227\u001b[0m         alert_text \u001b[39m=\u001b[39m value[\u001b[39m\"\u001b[39m\u001b[39malert\u001b[39m\u001b[39m\"\u001b[39m]\u001b[39m.\u001b[39mget(\u001b[39m\"\u001b[39m\u001b[39mtext\u001b[39m\u001b[39m\"\u001b[39m)\n\u001b[1;32m    228\u001b[0m     \u001b[39mraise\u001b[39;00m exception_class(message, screen, stacktrace, alert_text)  \u001b[39m# type: ignore[call-arg]  # mypy is not smart enough here\u001b[39;00m\n\u001b[0;32m--> 229\u001b[0m \u001b[39mraise\u001b[39;00m exception_class(message, screen, stacktrace)\n",
      "\u001b[0;31mNoSuchElementException\u001b[0m: Message: no such element: Unable to locate element: {\"method\":\"xpath\",\"selector\":\"//input[@type='checkbox']\"}\n  (Session info: chrome=122.0.6261.129); For documentation on this error, please visit: https://www.selenium.dev/documentation/webdriver/troubleshooting/errors#no-such-element-exception\nStacktrace:\n0   chromedriver                        0x00000001050b4524 chromedriver + 3966244\n1   chromedriver                        0x00000001050acab0 chromedriver + 3934896\n2   chromedriver                        0x0000000104d2fda0 chromedriver + 277920\n3   chromedriver                        0x0000000104d72394 chromedriver + 549780\n4   chromedriver                        0x0000000104daabf0 chromedriver + 781296\n5   chromedriver                        0x0000000104d66fb0 chromedriver + 503728\n6   chromedriver                        0x0000000104d67a28 chromedriver + 506408\n7   chromedriver                        0x000000010507970c chromedriver + 3725068\n8   chromedriver                        0x000000010507dc00 chromedriver + 3742720\n9   chromedriver                        0x00000001050621f4 chromedriver + 3629556\n10  chromedriver                        0x000000010507e6fc chromedriver + 3745532\n11  chromedriver                        0x000000010505556c chromedriver + 3577196\n12  chromedriver                        0x000000010509cf5c chromedriver + 3870556\n13  chromedriver                        0x000000010509d100 chromedriver + 3870976\n14  chromedriver                        0x00000001050ac720 chromedriver + 3933984\n15  libsystem_pthread.dylib             0x000000018c5c2034 _pthread_start + 136\n16  libsystem_pthread.dylib             0x000000018c5bce3c thread_start + 8\n"
     ]
    }
   ],
   "source": [
    "from selenium import webdriver\n",
    "from selenium.webdriver.common.keys import Keys\n",
    "from selenium.webdriver.common.by import By\n",
    "import time\n",
    "\n",
    "# Path to your chromedriver executable\n",
    "# remove chromedriver -> brew uninstall chromedriver\n",
    "chrome_driver_path = '/opt/homebrew/bin/chromedriver'\n",
    "\n",
    "# URL of the chat interface where you'll interact with GPT\n",
    "chat_url = 'https://chat.openai.com/'\n",
    "\n",
    "\n",
    "driver = webdriver.Chrome()\n",
    "\n",
    "# Open the chat URL\n",
    "driver.get(chat_url)\n",
    "\n",
    "\n",
    "def login():\n",
    "    # Find the input element where you type message\n",
    "    email = 'ng.d.phuongnghi@gmail.com'\n",
    "    pwd = 'nghiprovip123'\n",
    "\n",
    "    login_btn = driver.find_element(By.XPATH, \"//*[contains(text(),'Log in')]\")\n",
    "    time.sleep(3)\n",
    "    if login_btn.is_enabled():\n",
    "        login_btn.click()\n",
    "\n",
    "    time.sleep(10)\n",
    "    # captcha = driver.find_element(By.XPATH, '//*[@id=\"challenge-stage\"]/div/label/input')\n",
    "    captcha = driver.find_element(By.XPATH, \"//input[@type='checkbox']\")\n",
    "    if captcha.is_displayed():\n",
    "        captcha.click()\n",
    "    \n",
    "    email_input = driver.find_element(By.CLASS_NAME, 'email-input')\n",
    "    email_input.send_keys(email)\n",
    "    driver.implicitly_wait(10)\n",
    "    continue_btn = driver.find_element(By.CLASS_NAME, 'continue-btn')\n",
    "    continue_btn.click()\n",
    "    driver.implicitly_wait(2)\n",
    "    pwd_input = driver.find_element(By.ID, 'password')\n",
    "    pwd_input.send_keys(pwd)\n",
    "\n",
    "# # Function to send a message to the chat\n",
    "def send_message(message):\n",
    "    input_element = driver.find_element(By.TAG_NAME, 'textarea')\n",
    "    # input_element.send_keys(message)\n",
    "    # input_element.send_keys(Keys.RETURN)\n",
    "    print(input_element.text)\n",
    "\n",
    "# Initial message to start the conversation\n",
    "login()\n",
    "# initial_message = \"Hello, let's chat with GPT!\"\n",
    "# send_message(initial_message)\n",
    "\n",
    "# Function to get GPT's response\n",
    "def get_response():\n",
    "    # Assuming GPT's response is in a specific element on the page\n",
    "    response_element = driver.find_element_by_xpath('//div[@class=\"response\"]')\n",
    "    return response_element.text\n",
    "\n",
    "# Example conversation loop\n",
    "conversation = [\n",
    "    (\"Can you tell me about yourself?\", 3),\n",
    "    (\"What do you know about artificial intelligence?\", 5),\n",
    "    (\"How can I learn programming?\", 4),\n",
    "    # Add more questions and wait times as needed\n",
    "]\n",
    "\n",
    "# for question, wait_time in conversation:\n",
    "#     send_message(question)\n",
    "#     time.sleep(wait_time)  # Wait for GPT's response\n",
    "#     response = get_response()\n",
    "#     print(\"GPT:\", response)\n",
    "\n",
    "# Close the WebDriver\n",
    "driver.close()\n"
   ]
  },
  {
   "cell_type": "code",
   "execution_count": null,
   "metadata": {},
   "outputs": [],
   "source": []
  }
 ],
 "metadata": {
  "kernelspec": {
   "display_name": "Python 3.10.13 ('.venv': venv)",
   "language": "python",
   "name": "python3"
  },
  "language_info": {
   "codemirror_mode": {
    "name": "ipython",
    "version": 3
   },
   "file_extension": ".py",
   "mimetype": "text/x-python",
   "name": "python",
   "nbconvert_exporter": "python",
   "pygments_lexer": "ipython3",
   "version": "3.10.13"
  },
  "orig_nbformat": 4,
  "vscode": {
   "interpreter": {
    "hash": "a704de84d788518585a1734d7e07d73c8af2617ee4bc5ea96944d1c9b2e73160"
   }
  }
 },
 "nbformat": 4,
 "nbformat_minor": 2
}
