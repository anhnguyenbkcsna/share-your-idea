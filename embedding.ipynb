{
 "cells": [
  {
   "attachments": {},
   "cell_type": "markdown",
   "metadata": {},
   "source": [
    "## Create Dataset for filtering: Idea Startup"
   ]
  },
  {
   "cell_type": "code",
   "execution_count": null,
   "metadata": {},
   "outputs": [],
   "source": [
    "!pip3 install requests Pillow beautifulsoup4"
   ]
  },
  {
   "cell_type": "code",
   "execution_count": null,
   "metadata": {},
   "outputs": [],
   "source": [
    "import requests, os\n",
    "from bs4 import BeautifulSoup\n",
    "\n",
    "# https://www.crummy.com/software/BeautifulSoup/bs4/doc/\n",
    "\n",
    "response = requests.get(\"https://ideasai.com/data-startup-ideas\")\n",
    "soup = BeautifulSoup(response.text, \"html.parser\")\n",
    "\n",
    "ideas = soup.findAll('h3', class_='idea')\n",
    "idea_descriptions = [desc.text for desc in ideas]\n",
    "print(idea_descriptions, len(idea_descriptions))\n",
    "\n",
    "votes = soup.findAll('span', class_='votes')\n",
    "voting = [v.text for v in votes]\n",
    "print(voting)\n",
    "\n",
    "print (len(voting), len(idea_descriptions))\n",
    "\n",
    "import csv\n",
    "\n",
    "file_path='data/valid_ideas.csv'\n",
    "print(os.getcwd())\n",
    "\n",
    "  # Try to open non-existing file to write data\n",
    "with open(file_path, \"x+\") as file:\n",
    "  # Read the contents of the file\n",
    "  for idx in range(len(voting)):\n",
    "    desc = idea_descriptions[idx].replace('\"', '')\n",
    "    vote = voting[idx].replace(',', '')\n",
    "    sen = ';'.join([desc, '1', vote, '\\n'])\n",
    "    file.write(sen)"
   ]
  },
  {
   "cell_type": "code",
   "execution_count": null,
   "metadata": {},
   "outputs": [],
   "source": [
    "import requests, json\n",
    "from bs4 import BeautifulSoup\n",
    "\n",
    "# https://www.crummy.com/software/BeautifulSoup/bs4/doc/\n",
    "\n",
    "response = requests.get(\"https://randomwordgenerator.com/json/sentences.json\")\n",
    "type(response.text)\n",
    "data = json.loads(response.text)\n",
    "print(data[\"data\"])\n",
    "sentences = data[\"data\"]\n",
    "\n",
    "import csv\n",
    "\n",
    "with open('data/invalid-sentences.csv', 'x+', newline='') as file:\n",
    "  writer = csv.writer(file)\n",
    "  \n",
    "  for idx in range(len(sentences)):\n",
    "    writer.writerow([sentences[idx][\"sentence\"], 0])\n",
    "    "
   ]
  },
  {
   "cell_type": "code",
   "execution_count": null,
   "metadata": {},
   "outputs": [],
   "source": [
    "import requests, json\n",
    "from bs4 import BeautifulSoup\n",
    "\n",
    "# https://www.crummy.com/software/BeautifulSoup/bs4/doc/\n",
    "\n",
    "response = requests.get(\"https://www.randomsentencegen.com/sentence-with-startup\")\n",
    "soup = BeautifulSoup(response.text, \"html.parser\")\n",
    "\n",
    "ideas = soup.findAll('tr', class_='item')\n",
    "idea_descriptions = [desc.text for desc in ideas]\n",
    "print(idea_descriptions, len(idea_descriptions))\n",
    "\n",
    "import csv\n",
    "\n",
    "with open('data/invalid-sentences.csv', 'x+', newline='') as file:\n",
    "  writer = csv.writer(file)\n",
    "  \n",
    "  for idx in range(len(sentences)):\n",
    "    writer.writerow([sentences[idx][\"sentence\"], 0])\n",
    "    "
   ]
  },
  {
   "attachments": {},
   "cell_type": "markdown",
   "metadata": {},
   "source": [
    "## Filtering by LSTM"
   ]
  },
  {
   "attachments": {},
   "cell_type": "markdown",
   "metadata": {},
   "source": [
    "### Import"
   ]
  },
  {
   "cell_type": "code",
   "execution_count": null,
   "metadata": {},
   "outputs": [],
   "source": [
    "import pandas as pd\n",
    "\n",
    "invalid_0 = pd.read_csv(\"data/invalid_sentences.csv\", delimiter=';')\n",
    "invalid_1 = pd.read_csv(\"data/random_str.csv\", delimiter=',')\n",
    "semantic = pd.read_csv(\"data/valid_ideas.csv\", delimiter=';', usecols=['sentence', 'spam'])\n",
    "\n",
    "invalid_0.head()\n",
    "invalid_1.head()\n",
    "semantic.head()\n",
    "\n",
    "frames = [invalid_0, semantic, invalid_1]\n",
    " \n",
    "df = pd.concat(frames)\n",
    "\n",
    "df.head()"
   ]
  },
  {
   "attachments": {},
   "cell_type": "markdown",
   "metadata": {},
   "source": [
    "### Sequence Model"
   ]
  },
  {
   "cell_type": "markdown",
   "metadata": {},
   "source": [
    "Install Tensorflow on M1: https://medium.com/@sorenlind/tensorflow-with-gpu-support-on-apple-silicon-mac-with-homebrew-and-without-conda-miniforge-915b2f15425b"
   ]
  },
  {
   "cell_type": "code",
   "execution_count": null,
   "metadata": {},
   "outputs": [],
   "source": [
    "# A dependency of the preprocessing for BERT inputs\n",
    "!pip3 install -U tensorflow-macos tensorflow-metal\n",
    "!pip3 install plotlib tf-models-official"
   ]
  },
  {
   "cell_type": "code",
   "execution_count": null,
   "metadata": {},
   "outputs": [],
   "source": [
    "!pip3 show tensorflow\n",
    "!pip3 install tensorflow --user"
   ]
  },
  {
   "cell_type": "code",
   "execution_count": null,
   "metadata": {},
   "outputs": [],
   "source": [
    "import os\n",
    "import shutil\n",
    "\n",
    "import tensorflow as tf\n",
    "\n",
    "tf.config.list_physical_device(\"GPU\")\n",
    "# from official.nlp import optimization  # to create AdamW optimizer\n",
    "\n",
    "tf.get_logger().setLevel('ERROR')"
   ]
  },
  {
   "cell_type": "code",
   "execution_count": null,
   "metadata": {},
   "outputs": [],
   "source": [
    "!pip3 install sklearn"
   ]
  },
  {
   "cell_type": "code",
   "execution_count": null,
   "metadata": {},
   "outputs": [],
   "source": [
    "from sklearn.model_selection import train_test_split\n",
    "\n",
    "#Create test and train samples from one dataframe with pandas?\n",
    "train_data, test_data = train_test_split(df, test_size=0.3)"
   ]
  },
  {
   "cell_type": "code",
   "execution_count": null,
   "metadata": {},
   "outputs": [],
   "source": [
    "train_list = train_data.values.tolist()\n",
    "print(train_list)"
   ]
  },
  {
   "attachments": {},
   "cell_type": "markdown",
   "metadata": {},
   "source": [
    "## Build Vocabulary - TextVectorization"
   ]
  },
  {
   "cell_type": "code",
   "execution_count": null,
   "metadata": {},
   "outputs": [],
   "source": [
    "from tensorflow.keras.layers import TextVectorization\n",
    "\n",
    "\n",
    "# Model constants.\n",
    "max_features = 20000\n",
    "embedding_dim = 128\n",
    "sequence_length = 500\n",
    "\n",
    "# Now that we have our custom standardization, we can instantiate our text\n",
    "# vectorization layer. We are using this layer to normalize, split, and map\n",
    "# strings to integers, so we set our 'output_mode' to 'int'.\n",
    "# Note that we're using the default split function,\n",
    "# and the custom standardization defined above.\n",
    "# We also set an explicit maximum sequence length, since the CNNs later in our\n",
    "# model won't support ragged sequences.\n",
    "vectorize_layer = TextVectorization(\n",
    "    max_tokens=max_features,\n",
    "    output_mode=\"int\",\n",
    "    output_sequence_length=sequence_length,\n",
    ")\n",
    "\n",
    "\n",
    "# Now that the vectorize_layer has been created, call `adapt` on a text-only\n",
    "# dataset to create the vocabulary. You don't have to batch, but for very large\n",
    "# datasets this means you're not keeping spare copies of the dataset in memory.\n",
    "\n",
    "# Let's make a text-only dataset (no labels):\n",
    "# Let's call `adapt`:\n",
    "train_without_label = train_data.loc[:, df.columns == 'sentence']\n",
    "train_dataset = tf.data.Dataset.from_tensor_slices(train_without_label.to_dict(orient=\"list\"))\n",
    "list_data = train_without_label.values.tolist()\n",
    "\n",
    "# Adapt with Dataframe\n",
    "# vectorize_layer.adapt(train_without_label, batch_size=64)\n",
    "\n",
    "# Adapt with list\n",
    "vectorize_layer.adapt(list_data, batch_size=64)\n",
    "vectorize_layer.get_vocabulary()\n"
   ]
  },
  {
   "cell_type": "code",
   "execution_count": null,
   "metadata": {},
   "outputs": [],
   "source": [
    "dataset = tf.data.Dataset.from_tensor_slices([[1,2], [2,3], [3,4]])\n",
    "dataset = dataset.map(lambda x: x*2)\n",
    "list(dataset.as_numpy_iterator())"
   ]
  },
  {
   "cell_type": "code",
   "execution_count": null,
   "metadata": {},
   "outputs": [],
   "source": [
    "train_dataset = tf.data.Dataset.from_tensor_slices(train_data.to_dict(orient=\"list\"))\n",
    "map_dataset = train_dataset.map(lambda x: (vectorize_layer(x['sentence']), x['spam']))\n",
    "\n",
    "# Train Dataset with dictionary -> get the tensor dimen\n",
    "# for ele in train_dataset:\n",
    "#     print(ele)\n",
    "#     print(ele['sentence'].numpy())\n",
    "#     print(ele['spam'].numpy())\n",
    "\n",
    "for ele in map_dataset:\n",
    "    print(ele)"
   ]
  },
  {
   "cell_type": "code",
   "execution_count": null,
   "metadata": {},
   "outputs": [],
   "source": [
    "def vectorize_text(text, label):\n",
    "  label = tf.expand_dims(label, -1)\n",
    "  text = tf.expand_dims(text, -1)\n",
    "  return vectorize_layer(text), label\n",
    "\n",
    "def mapping_vocab(dataframe, callable):\n",
    "  training_ds = tf.data.Dataset.from_tensor_slices(dataframe.to_dict(orient=\"list\"))\n",
    "\n",
    "  text_batch, label_batch = next(iter(training_ds))\n",
    "  first_review, first_label = text_batch[0], label_batch[0]\n",
    "  # print(\"Column Name\", text_batch, label_batch)\n",
    "\n",
    "  map_dataset = training_ds.map(lambda x: callable(x['sentence'], x['spam']))\n",
    "  # print(map_dataset.element_spec)\n",
    "  return map_dataset\n",
    "\n",
    "# Vectorize the data.\n",
    "train_ds = mapping_vocab(train_data, vectorize_text)\n",
    "val_ds = mapping_vocab(train_data, vectorize_text)\n",
    "test_ds = mapping_vocab(test_data, vectorize_text)\n",
    "\n",
    "# Do async prefetching / buffering of the data for best performance on GPU.\n",
    "train_ds = train_ds.cache().prefetch(buffer_size=10)\n",
    "val_ds = val_ds.cache().prefetch(buffer_size=10)\n",
    "test_ds = test_ds.cache().prefetch(buffer_size=10)\n",
    "\n",
    "for ele in train_ds:\n",
    "  print(ele)"
   ]
  },
  {
   "cell_type": "code",
   "execution_count": null,
   "metadata": {},
   "outputs": [],
   "source": [
    "from tensorflow.keras import layers\n",
    "\n",
    "# https://www.tensorflow.org/tutorials/keras/text_classification\n",
    "\n",
    "# Model constants.\n",
    "max_features = 20000\n",
    "embedding_dim = 128\n",
    "sequence_length = 500\n",
    "\n",
    "# A integer input for vocab indices.\n",
    "inputs = tf.keras.Input(shape=(None,), dtype=\"int64\")\n",
    "\n",
    "# Next, we add a layer to map those vocab indices into a space of dimensionality\n",
    "# 'embedding_dim'.\n",
    "x = layers.Embedding(max_features, embedding_dim)(inputs)\n",
    "x = layers.Dropout(0.5)(x)\n",
    "\n",
    "# Conv1D + global max pooling\n",
    "x = layers.Conv1D(128, 7, padding=\"valid\", activation=\"relu\", strides=3)(x)\n",
    "x = layers.Conv1D(128, 7, padding=\"valid\", activation=\"relu\", strides=3)(x)\n",
    "x = layers.GlobalMaxPooling1D()(x)\n",
    "\n",
    "# We add a vanilla hidden layer:\n",
    "x = layers.Dense(128, activation=\"relu\")(x)\n",
    "x = layers.Dropout(0.5)(x)\n",
    "\n",
    "# We project onto a single unit output layer, and squash it with a sigmoid:\n",
    "predictions = layers.Dense(1, activation=\"sigmoid\", name=\"predictions\")(x)\n",
    "\n",
    "model = tf.keras.Model(inputs, predictions)\n",
    "\n",
    "# Compile the model with binary crossentropy loss and an adam optimizer.\n",
    "model.compile(loss=\"binary_crossentropy\", optimizer=\"adam\", metrics=[\"accuracy\"])"
   ]
  },
  {
   "cell_type": "code",
   "execution_count": null,
   "metadata": {},
   "outputs": [],
   "source": [
    "from tensorflow.keras import layers\n",
    "from tensorflow.keras import losses\n",
    "\n",
    "model = tf.keras.Sequential([\n",
    "  layers.Embedding(max_features + 1, embedding_dim),\n",
    "  layers.Dropout(0.2),\n",
    "  layers.GlobalAveragePooling1D(),\n",
    "  layers.Dropout(0.2),\n",
    "  layers.Dense(1)])\n",
    "\n",
    "model.summary()\n",
    "\n",
    "model.compile(loss=losses.BinaryCrossentropy(from_logits=True),\n",
    "              optimizer='adam',\n",
    "              metrics=tf.metrics.BinaryAccuracy(threshold=0.0))"
   ]
  },
  {
   "cell_type": "code",
   "execution_count": null,
   "metadata": {},
   "outputs": [],
   "source": [
    "epochs = 3\n",
    "\n",
    "# Fit the model using the train and test datasets.\n",
    "history = model.fit(train_ds, validation_data=val_ds, epochs=epochs)"
   ]
  },
  {
   "cell_type": "code",
   "execution_count": null,
   "metadata": {},
   "outputs": [],
   "source": [
    "loss, accuracy = model.evaluate(test_ds)\n",
    "\n",
    "print(\"Loss: \", loss)\n",
    "print(\"Accuracy: \", accuracy)"
   ]
  },
  {
   "attachments": {},
   "cell_type": "markdown",
   "metadata": {},
   "source": [
    "### Evaluation"
   ]
  },
  {
   "cell_type": "code",
   "execution_count": null,
   "metadata": {},
   "outputs": [],
   "source": [
    "import matplotlib.pyplot as plt\n",
    "\n",
    "history_dict = history.history\n",
    "history_dict.keys()\n",
    "\n",
    "acc = history_dict['binary_accuracy']\n",
    "val_acc = history_dict['val_binary_accuracy']\n",
    "loss = history_dict['loss']\n",
    "val_loss = history_dict['val_loss']\n",
    "\n",
    "epochs = range(1, len(acc) + 1)\n",
    "\n",
    "# \"bo\" is for \"blue dot\"\n",
    "plt.plot(epochs, loss, 'bo', label='Training loss')\n",
    "# b is for \"solid blue line\"\n",
    "plt.plot(epochs, val_loss, 'b', label='Validation loss')\n",
    "plt.title('Training and validation loss')\n",
    "plt.xlabel('Epochs')\n",
    "plt.ylabel('Loss')\n",
    "plt.legend()\n",
    "\n",
    "plt.show()"
   ]
  },
  {
   "cell_type": "code",
   "execution_count": null,
   "metadata": {},
   "outputs": [],
   "source": [
    "plt.plot(epochs, acc, 'bo', label='Training acc')\n",
    "plt.plot(epochs, val_acc, 'b', label='Validation acc')\n",
    "plt.title('Training and validation accuracy')\n",
    "plt.xlabel('Epochs')\n",
    "plt.ylabel('Accuracy')\n",
    "plt.legend(loc='lower right')\n",
    "\n",
    "plt.show()"
   ]
  },
  {
   "attachments": {},
   "cell_type": "markdown",
   "metadata": {},
   "source": [
    "### Export Model"
   ]
  },
  {
   "attachments": {},
   "cell_type": "markdown",
   "metadata": {},
   "source": [
    "When using `TextVectorization` to tokenize strings, the input rank must be 1 or the last shape dimension must be 1. Received: inputs.shape=(None, None) with rank=2 <br>\n",
    "\n",
    "Have to reshape `TextVectorization` but its too difficult"
   ]
  },
  {
   "cell_type": "code",
   "execution_count": null,
   "metadata": {},
   "outputs": [],
   "source": [
    "import numpy as np\n",
    "\n",
    "export_model = tf.keras.Sequential([\n",
    "  vectorize_layer,\n",
    "  model,\n",
    "  layers.Activation('sigmoid')\n",
    "])\n",
    "\n",
    "export_model.compile(\n",
    "    loss=losses.BinaryCrossentropy(from_logits=False), optimizer=\"adam\", metrics=['accuracy']\n",
    ")\n",
    "\n",
    "flat_data = np.array([list(train_data.values)]).flatten()\n",
    "print(flat_data)\n",
    "test_export_dataset = tf.data.Dataset.from_tensor_slices(flat_data)\n",
    "\n",
    "# Test it with `test_ds`, which yields raw strings\n",
    "loss, accuracy = export_model.evaluate(test_export_dataset)\n",
    "print(accuracy)"
   ]
  },
  {
   "cell_type": "code",
   "execution_count": null,
   "metadata": {},
   "outputs": [],
   "source": [
    "for x in train_ds.take(1):\n",
    "  print(x[0].numpy())\n",
    "\n",
    "  model.predict(train_ds)"
   ]
  },
  {
   "cell_type": "markdown",
   "metadata": {},
   "source": [
    "## EMBEDDING LAYER"
   ]
  },
  {
   "cell_type": "code",
   "execution_count": null,
   "metadata": {},
   "outputs": [],
   "source": [
    "!pip3 install pandas numpy seaborn matplotlib scikit-learn keras"
   ]
  },
  {
   "cell_type": "code",
   "execution_count": null,
   "metadata": {},
   "outputs": [],
   "source": [
    "!pip3 install tensorflow"
   ]
  },
  {
   "cell_type": "code",
   "execution_count": 1,
   "metadata": {},
   "outputs": [],
   "source": [
    "import pandas as pd\n",
    "import numpy as np\n",
    "import matplotlib.pyplot as plt\n",
    "import seaborn as sns\n",
    "from sklearn.model_selection import train_test_split\n",
    "from sklearn.preprocessing import LabelEncoder\n",
    "from keras.models import Model\n",
    "from keras.layers import LSTM, Activation, Dense, Dropout, Input, Embedding\n",
    "# tf.keras.optimizers.legacy.RMSprop\n",
    "from keras.optimizers.legacy import RMSprop\n",
    "from keras.preprocessing.text import Tokenizer\n",
    "from keras.preprocessing import sequence\n",
    "from keras.utils import to_categorical\n",
    "from keras.callbacks import EarlyStopping\n",
    "%matplotlib inline"
   ]
  },
  {
   "cell_type": "code",
   "execution_count": 67,
   "metadata": {},
   "outputs": [
    {
     "data": {
      "text/html": [
       "<div>\n",
       "<style scoped>\n",
       "    .dataframe tbody tr th:only-of-type {\n",
       "        vertical-align: middle;\n",
       "    }\n",
       "\n",
       "    .dataframe tbody tr th {\n",
       "        vertical-align: top;\n",
       "    }\n",
       "\n",
       "    .dataframe thead th {\n",
       "        text-align: right;\n",
       "    }\n",
       "</style>\n",
       "<table border=\"1\" class=\"dataframe\">\n",
       "  <thead>\n",
       "    <tr style=\"text-align: right;\">\n",
       "      <th></th>\n",
       "      <th>sentence</th>\n",
       "      <th>spam</th>\n",
       "    </tr>\n",
       "  </thead>\n",
       "  <tbody>\n",
       "    <tr>\n",
       "      <th>0</th>\n",
       "      <td>The quick brown fox jumps over the lazy dog.</td>\n",
       "      <td>0</td>\n",
       "    </tr>\n",
       "    <tr>\n",
       "      <th>1</th>\n",
       "      <td>My Mum tries to be cool by saying that she lik...</td>\n",
       "      <td>0</td>\n",
       "    </tr>\n",
       "    <tr>\n",
       "      <th>2</th>\n",
       "      <td>A purple pig and a green donkey flew a kite in...</td>\n",
       "      <td>0</td>\n",
       "    </tr>\n",
       "    <tr>\n",
       "      <th>3</th>\n",
       "      <td>Last Friday I saw a spotted striped blue worm ...</td>\n",
       "      <td>0</td>\n",
       "    </tr>\n",
       "    <tr>\n",
       "      <th>4</th>\n",
       "      <td>A song can make or ruin a person’s day if they...</td>\n",
       "      <td>0</td>\n",
       "    </tr>\n",
       "  </tbody>\n",
       "</table>\n",
       "</div>"
      ],
      "text/plain": [
       "                                            sentence  spam\n",
       "0       The quick brown fox jumps over the lazy dog.     0\n",
       "1  My Mum tries to be cool by saying that she lik...     0\n",
       "2  A purple pig and a green donkey flew a kite in...     0\n",
       "3  Last Friday I saw a spotted striped blue worm ...     0\n",
       "4  A song can make or ruin a person’s day if they...     0"
      ]
     },
     "execution_count": 67,
     "metadata": {},
     "output_type": "execute_result"
    }
   ],
   "source": [
    "import pandas as pd\n",
    "\n",
    "invalid_0 = pd.read_csv(\"data/invalid_sentences.csv\", delimiter=';')\n",
    "invalid_1 = pd.read_csv(\"data/random_str.csv\", delimiter=',')\n",
    "semantic = pd.read_csv(\"data/valid_ideas.csv\", delimiter=';', usecols=['sentence', 'spam'])\n",
    "\n",
    "invalid_0.head()\n",
    "invalid_1.head()\n",
    "semantic.head()\n",
    "\n",
    "frames = [invalid_0, semantic, invalid_1]\n",
    " \n",
    "df = pd.concat(frames)\n",
    "\n",
    "df.head()"
   ]
  },
  {
   "cell_type": "code",
   "execution_count": 68,
   "metadata": {},
   "outputs": [
    {
     "data": {
      "text/plain": [
       "Text(0.5, 1.0, 'Number of ham (1) and spam (0) ideas')"
      ]
     },
     "execution_count": 68,
     "metadata": {},
     "output_type": "execute_result"
    },
    {
     "data": {
      "image/png": "[encoded data removed]",
      "text/plain": [
       "<Figure size 640x480 with 1 Axes>"
      ]
     },
     "metadata": {},
     "output_type": "display_data"
    }
   ],
   "source": [
    "sns.countplot(df, x=\"spam\")\n",
    "plt.xlabel('Label')\n",
    "plt.title('Number of ham (1) and spam (0) ideas')"
   ]
  },
  {
   "cell_type": "code",
   "execution_count": 69,
   "metadata": {},
   "outputs": [],
   "source": [
    "X = df.sentence\n",
    "Y = df.spam\n",
    "le = LabelEncoder()\n",
    "Y = le.fit_transform(Y)\n",
    "Y = Y.reshape(-1,1)"
   ]
  },
  {
   "cell_type": "code",
   "execution_count": 70,
   "metadata": {},
   "outputs": [],
   "source": [
    "X_train,X_test,Y_train,Y_test = train_test_split(X,Y,test_size=0.15)"
   ]
  },
  {
   "cell_type": "code",
   "execution_count": 71,
   "metadata": {},
   "outputs": [],
   "source": [
    "max_words = 1000\n",
    "max_len = 150\n",
    "tok = Tokenizer(num_words=max_words)\n",
    "tok.fit_on_texts(X_train)\n",
    "sequences = tok.texts_to_sequences(X_train)\n",
    "sequences_matrix = sequence.pad_sequences(sequences,maxlen=max_len)"
   ]
  },
  {
   "cell_type": "code",
   "execution_count": 72,
   "metadata": {},
   "outputs": [],
   "source": [
    "def RNN():\n",
    "  inputs = Input(name='inputs',shape=[max_len])\n",
    "  layer = Embedding(max_words,50,input_length=max_len)(inputs)\n",
    "  layer = LSTM(64)(layer)\n",
    "  layer = Dense(256,name='FC1')(layer)\n",
    "  layer = Activation('relu')(layer)\n",
    "  layer = Dropout(0.5)(layer)\n",
    "  layer = Dense(1,name='out_layer')(layer)\n",
    "  layer = Activation('sigmoid')(layer)\n",
    "  model = Model(inputs=inputs,outputs=layer)\n",
    "  return model"
   ]
  },
  {
   "cell_type": "code",
   "execution_count": 73,
   "metadata": {},
   "outputs": [
    {
     "name": "stdout",
     "output_type": "stream",
     "text": [
      "Model: \"model_2\"\n",
      "_________________________________________________________________\n",
      " Layer (type)                Output Shape              Param #   \n",
      "=================================================================\n",
      " inputs (InputLayer)         [(None, 150)]             0         \n",
      "                                                                 \n",
      " embedding_2 (Embedding)     (None, 150, 50)           50000     \n",
      "                                                                 \n",
      " lstm_2 (LSTM)               (None, 64)                29440     \n",
      "                                                                 \n",
      " FC1 (Dense)                 (None, 256)               16640     \n",
      "                                                                 \n",
      " activation_4 (Activation)   (None, 256)               0         \n",
      "                                                                 \n",
      " dropout_2 (Dropout)         (None, 256)               0         \n",
      "                                                                 \n",
      " out_layer (Dense)           (None, 1)                 257       \n",
      "                                                                 \n",
      " activation_5 (Activation)   (None, 1)                 0         \n",
      "                                                                 \n",
      "=================================================================\n",
      "Total params: 96337 (376.32 KB)\n",
      "Trainable params: 96337 (376.32 KB)\n",
      "Non-trainable params: 0 (0.00 Byte)\n",
      "_________________________________________________________________\n"
     ]
    }
   ],
   "source": [
    "model = RNN()\n",
    "model.summary()\n",
    "model.compile(loss='binary_crossentropy',optimizer=RMSprop(),metrics=['accuracy'])"
   ]
  },
  {
   "cell_type": "code",
   "execution_count": 74,
   "metadata": {},
   "outputs": [
    {
     "name": "stdout",
     "output_type": "stream",
     "text": [
      "Epoch 1/5\n",
      "25/25 [==============================] - 5s 152ms/step - loss: 0.3238 - accuracy: 0.8778 - val_loss: 0.0920 - val_accuracy: 0.9885\n",
      "Epoch 2/5\n",
      "25/25 [==============================] - 3s 121ms/step - loss: 0.0543 - accuracy: 0.9844 - val_loss: 0.0517 - val_accuracy: 0.9936\n",
      "Epoch 3/5\n",
      "25/25 [==============================] - 3s 119ms/step - loss: 0.0223 - accuracy: 0.9930 - val_loss: 0.0404 - val_accuracy: 0.9962\n",
      "Epoch 4/5\n",
      "25/25 [==============================] - 3s 118ms/step - loss: 0.0114 - accuracy: 0.9965 - val_loss: 0.0407 - val_accuracy: 0.9962\n"
     ]
    }
   ],
   "source": [
    "history = model.fit(sequences_matrix,Y_train,batch_size=128,epochs=5,\n",
    "          validation_split=0.2,callbacks=[EarlyStopping(monitor='val_loss',min_delta=0.0001)])\n",
    "\n"
   ]
  },
  {
   "cell_type": "code",
   "execution_count": 75,
   "metadata": {},
   "outputs": [],
   "source": [
    "test_sequences = tok.texts_to_sequences(X_test)\n",
    "test_sequences_matrix = sequence.pad_sequences(test_sequences,maxlen=max_len)"
   ]
  },
  {
   "cell_type": "code",
   "execution_count": 76,
   "metadata": {},
   "outputs": [
    {
     "name": "stdout",
     "output_type": "stream",
     "text": [
      "22/22 [==============================] - 0s 14ms/step - loss: 0.0256 - accuracy: 0.9928\n"
     ]
    }
   ],
   "source": [
    "accr = model.evaluate(test_sequences_matrix,Y_test)"
   ]
  },
  {
   "cell_type": "code",
   "execution_count": 77,
   "metadata": {},
   "outputs": [
    {
     "name": "stdout",
     "output_type": "stream",
     "text": [
      "Test set\n",
      "  Loss: 0.026\n",
      "  Accuracy: 0.993\n"
     ]
    }
   ],
   "source": [
    "print('Test set\\n  Loss: {:0.3f}\\n  Accuracy: {:0.3f}'.format(accr[0],accr[1]))"
   ]
  },
  {
   "cell_type": "code",
   "execution_count": 78,
   "metadata": {},
   "outputs": [
    {
     "data": {
      "image/png": "[encoded data removed]",
      "text/plain": [
       "<Figure size 640x480 with 1 Axes>"
      ]
     },
     "metadata": {},
     "output_type": "display_data"
    },
    {
     "data": {
      "image/png": "[encoded data removed]",
      "text/plain": [
       "<Figure size 640x480 with 1 Axes>"
      ]
     },
     "metadata": {},
     "output_type": "display_data"
    }
   ],
   "source": [
    "import matplotlib.pyplot as plt\n",
    "\n",
    "acc = history.history['accuracy']\n",
    "val_acc = history.history['val_accuracy']\n",
    "loss = history.history['loss']\n",
    "val_loss = history.history['val_loss']\n",
    "epochs = range(1, len(acc) + 1)\n",
    "plt.plot(epochs, acc, 'bo', label='Training acc')\n",
    "plt.plot(epochs, val_acc, 'b', label='Validation acc')\n",
    "plt.title('Training and validation accuracy')\n",
    "plt.legend()\n",
    "plt.figure()\n",
    "plt.plot(epochs, loss, 'bo', label='Training loss')\n",
    "plt.plot(epochs, val_loss, 'b', label='Validation loss')\n",
    "plt.title('Training and validation loss')\n",
    "plt.legend()\n",
    "plt.show()"
   ]
  },
  {
   "cell_type": "code",
   "execution_count": 79,
   "metadata": {},
   "outputs": [
    {
     "name": "stdout",
     "output_type": "stream",
     "text": [
      "1/1 [==============================] - 0s 297ms/step\n",
      "[[1.        ]\n",
      " [0.00263656]\n",
      " [1.        ]\n",
      " [1.        ]\n",
      " [0.00106954]\n",
      " [1.        ]\n",
      " [0.9999986 ]\n",
      " [0.00878514]\n",
      " [1.        ]\n",
      " [1.        ]] 1959    A visual calendar that lets you view data from...\n",
      "178     He stepped gingerly onto the bridge knowing th...\n",
      "1091    A company that teaches employees how to ask fo...\n",
      "368      A data platform that helps detect, prevent, a...\n",
      "109     ftjricbxkxmpvzschfign mycxxtbflgqgyclfslknxpb ...\n",
      "2068    A startup that monitors the health of your hom...\n",
      "1906    A startup in the US that does “intelligence” f...\n",
      "482     The clouds formed beautiful animals in the sky...\n",
      "1614    Maintains and manages a database of resumes an...\n",
      "2573    A data analytics platform for healthcare provi...\n",
      "Name: sentence, dtype: object\n"
     ]
    }
   ],
   "source": [
    "word_idx = 10\n",
    "prediction = model.predict(test_sequences_matrix[word_idx:word_idx+10])\n",
    "print(prediction, X_test[word_idx:word_idx+10])"
   ]
  },
  {
   "cell_type": "code",
   "execution_count": 80,
   "metadata": {},
   "outputs": [],
   "source": [
    "def input(new_sentence, ai_model):\n",
    "  new_sentence = new_sentence + \".\"\n",
    "  test_sequences = tok.texts_to_sequences([new_sentence])\n",
    "  test_sequences_matrix = sequence.pad_sequences(test_sequences, maxlen=max_len)\n",
    "  prediction = ai_model.predict(test_sequences_matrix)\n",
    "  label = \"spam\"\n",
    "  if prediction > 0.5:\n",
    "    label = \"innovative idea\"\n",
    "  print(prediction, new_sentence)"
   ]
  },
  {
   "cell_type": "code",
   "execution_count": 81,
   "metadata": {},
   "outputs": [
    {
     "name": "stdout",
     "output_type": "stream",
     "text": [
      "1/1 [==============================] - 0s 25ms/step\n",
      "[[0.00132614]] Nghi is beautiful.\n",
      "1/1 [==============================] - 0s 22ms/step\n",
      "[[0.9999996]] Nghi is building an AI app for tracking habit automatically that use voice-over to record your daily activities.\n",
      "1/1 [==============================] - 0s 22ms/step\n",
      "[[0.01435913]] Origin recipes for this manificient coffee shop.\n",
      "1/1 [==============================] - 0s 22ms/step\n",
      "[[0.01081974]] This is the new way to play guitar.\n",
      "1/1 [==============================] - 0s 22ms/step\n",
      "[[0.00141158]] This is the new book.\n",
      "1/1 [==============================] - 0s 26ms/step\n",
      "[[0.13556604]] This is the new AI model helping homework completion.\n",
      "1/1 [==============================] - 0s 32ms/step\n",
      "[[0.03161694]] We are operating new AI model to auto complete homework.\n",
      "1/1 [==============================] - 0s 28ms/step\n",
      "[[0.02000524]] Instagram is so popular that now everyone is using, scrolling til tired.\n"
     ]
    }
   ],
   "source": [
    "input(\"Nghi is beautiful\", model)\n",
    "input(\"Nghi is building an AI app for tracking habit automatically that use voice-over to record your daily activities\", model)\n",
    "input(\"Origin recipes for this manificient coffee shop\", model)\n",
    "input(\"This is the new way to play guitar\", model)\n",
    "input(\"This is the new book\", model)\n",
    "input(\"This is the new AI model helping homework completion\", model)\n",
    "input(\"We are operating new AI model to auto complete homework\", model)\n",
    "input(\"Instagram is so popular that now everyone is using, scrolling til tired\", model)"
   ]
  },
  {
   "cell_type": "code",
   "execution_count": null,
   "metadata": {},
   "outputs": [],
   "source": []
  }
 ],
 "metadata": {
  "kernelspec": {
   "display_name": "Python 3.10.13 ('.venv': venv)",
   "language": "python",
   "name": "python3"
  },
  "language_info": {
   "codemirror_mode": {
    "name": "ipython",
    "version": 3
   },
   "file_extension": ".py",
   "mimetype": "text/x-python",
   "name": "python",
   "nbconvert_exporter": "python",
   "pygments_lexer": "ipython3",
   "version": "3.10.13"
  },
  "orig_nbformat": 4,
  "vscode": {
   "interpreter": {
    "hash": "a704de84d788518585a1734d7e07d73c8af2617ee4bc5ea96944d1c9b2e73160"
   }
  }
 },
 "nbformat": 4,
 "nbformat_minor": 2
}
