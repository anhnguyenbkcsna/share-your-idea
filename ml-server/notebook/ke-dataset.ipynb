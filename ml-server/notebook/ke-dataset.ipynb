{
 "cells": [
  {
   "cell_type": "code",
   "execution_count": 1,
   "metadata": {},
   "outputs": [
    {
     "data": {
      "text/plain": [
       "[('Chào', 'V'),\n",
       " ('bạn', 'N'),\n",
       " (',', 'CH'),\n",
       " ('tớ', 'N'),\n",
       " ('là', 'V'),\n",
       " ('sinh viên', 'N')]"
      ]
     },
     "execution_count": 1,
     "metadata": {},
     "output_type": "execute_result"
    }
   ],
   "source": [
    "import underthesea\n",
    "\n",
    "underthesea.pos_tag(\"Chào bạn, tớ là sinh viên\")"
   ]
  },
  {
   "cell_type": "code",
   "execution_count": 45,
   "metadata": {},
   "outputs": [],
   "source": [
    "stop_words = []\n",
    "with open('../data/vietnamese-stopwords.txt', encoding='utf8') as f:\n",
    "  for line in f:\n",
    "    stop_words.append(line.strip().replace(' ', '_'))\n",
    "\n",
    "def remove_vie_stop_words(o_sen):\n",
    "  o_sen = o_sen.lower()\n",
    "  words = [word for word in o_sen.split() if word not in stop_words]\n",
    "  # print(words)\n",
    "  return \" \".join(words)"
   ]
  },
  {
   "cell_type": "code",
   "execution_count": 46,
   "metadata": {},
   "outputs": [],
   "source": [
    "from sklearn.feature_extraction.text import CountVectorizer\n",
    "\n",
    "def get_features_from_doc(raw_doc) -> list:\n",
    "  doc_segmented_list = [underthesea.word_tokenize(sentence, format='text') for sentence in raw_doc.split('.') if len(sentence) != 0]\n",
    "  count = CountVectorizer(ngram_range=(1,1))\n",
    "  # remove the last empty sentence\n",
    "  preprocess_sentences = [remove_vie_stop_words(doc_segmented) for doc_segmented in doc_segmented_list]\n",
    "  matrix = count.fit_transform(preprocess_sentences)\n",
    "  candidates = set(count.get_feature_names_out())\n",
    "  # print(matrix.toarray())\n",
    "  return candidates"
   ]
  },
  {
   "cell_type": "code",
   "execution_count": 33,
   "metadata": {},
   "outputs": [],
   "source": [
    "idea=\"Đây là một API giúp các ngân hàng và các công ty dịch vụ tài chính khác quản lý dữ liệu của họ hiệu quả hơn\""
   ]
  },
  {
   "cell_type": "code",
   "execution_count": 43,
   "metadata": {},
   "outputs": [
    {
     "name": "stdout",
     "output_type": "stream",
     "text": [
      "{'tài_chính', 'api', 'giúp', 'công_ty', 'hiệu_quả', 'ngân_hàng', 'dịch_vụ', 'quản_lý', 'dữ_liệu'}\n"
     ]
    }
   ],
   "source": [
    "keywords = get_features_from_doc(idea)\n",
    "print(keywords)\n",
    "# write_to_file(keywords, '../data/vie/keywords.txt')"
   ]
  },
  {
   "cell_type": "code",
   "execution_count": 17,
   "metadata": {},
   "outputs": [],
   "source": [
    "import os\n",
    "\n",
    "# Specify the file path\n",
    "# file_path = \"data/vie/text_valid.csv\"\n",
    "\n",
    "def write_to_file(keywords_list, file_path):\n",
    "  keywords = \", \".join(keywords_list)\n",
    "  # Check if the file exists\n",
    "  if os.path.exists(file_path):\n",
    "      # File exists, open in append mode\n",
    "      with open(file_path, \"a\") as file:\n",
    "          file.write(f'{keywords}\\n')\n",
    "  else:\n",
    "      # File doesn't exist, create and write content\n",
    "      with open(file_path, \"w\") as file:\n",
    "          file.write(f'{keywords}\\n')\n"
   ]
  },
  {
   "cell_type": "code",
   "execution_count": 47,
   "metadata": {},
   "outputs": [
    {
     "data": {
      "text/plain": [
       "'Đây là một API giúp các ngân hàng và các công ty dịch vụ tài chính khác quản lý dữ liệu của họ hiệu quả hơn'"
      ]
     },
     "execution_count": 47,
     "metadata": {},
     "output_type": "execute_result"
    }
   ],
   "source": [
    "import pandas as pd\n",
    "\n",
    "semantic = pd.read_csv(\"../data/vie/valid_idea.csv\", delimiter=';', usecols=['sentence', 'spam'])\n",
    "semantic['sentence'][20]"
   ]
  },
  {
   "cell_type": "code",
   "execution_count": 48,
   "metadata": {},
   "outputs": [],
   "source": [
    "for sent in semantic['sentence']:\n",
    "  keywords = get_features_from_doc(sent)\n",
    "  write_to_file(keywords, '../data/vie/keywords.txt')"
   ]
  },
  {
   "cell_type": "markdown",
   "metadata": {},
   "source": [
    "# Wiki Vietnamese"
   ]
  },
  {
   "cell_type": "code",
   "execution_count": 2,
   "metadata": {},
   "outputs": [
    {
     "name": "stdout",
     "output_type": "stream",
     "text": [
      "zsh:1: command not found: wget\n"
     ]
    }
   ],
   "source": [
    "!wget https://dumps.wikimedia.org/viwiki/latest/viwiki-latest-pages-articles.xml.bz2\n",
    "# !bzip2 -d viwiki-latest-pages-articles.xml.bz2\n",
    "# !python WikiExtractor.py --no-templates -s --lists viwiki-latest-pages-articles.xml -q -o - | perl -CSAD -Mutf8 cleaner.pl > viwiklatest.txt"
   ]
  },
  {
   "cell_type": "code",
   "execution_count": 1,
   "metadata": {},
   "outputs": [
    {
     "name": "stdout",
     "output_type": "stream",
     "text": [
      "Requirement already satisfied: wget in /Users/macos/Code/Graduation/share-your-idea/.venv/lib/python3.10/site-packages (3.2)\n",
      "Note: you may need to restart the kernel to use updated packages.\n"
     ]
    }
   ],
   "source": [
    "%pip install wget"
   ]
  }
 ],
 "metadata": {
  "kernelspec": {
   "display_name": "Python 3.10.13 ('.venv': venv)",
   "language": "python",
   "name": "python3"
  },
  "language_info": {
   "codemirror_mode": {
    "name": "ipython",
    "version": 3
   },
   "file_extension": ".py",
   "mimetype": "text/x-python",
   "name": "python",
   "nbconvert_exporter": "python",
   "pygments_lexer": "ipython3",
   "version": "3.10.13"
  },
  "orig_nbformat": 4,
  "vscode": {
   "interpreter": {
    "hash": "a704de84d788518585a1734d7e07d73c8af2617ee4bc5ea96944d1c9b2e73160"
   }
  }
 },
 "nbformat": 4,
 "nbformat_minor": 2
}
